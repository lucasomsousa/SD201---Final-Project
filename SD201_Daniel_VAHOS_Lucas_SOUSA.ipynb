{
  "nbformat": 4,
  "nbformat_minor": 0,
  "metadata": {
    "colab": {
      "name": "SD201_PROJECT - Lucas' Drive.ipynb",
      "provenance": [],
      "collapsed_sections": []
    },
    "kernelspec": {
      "name": "python3",
      "display_name": "Python 3"
    },
    "language_info": {
      "name": "python"
    }
  },
  "cells": [
    {
      "cell_type": "markdown",
      "source": [
        "# SD 201 - Mining of Large Datasets\n",
        "Daniel Vahos and Lucas Sousa\n"
      ],
      "metadata": {
        "id": "zNu8bg5hXXzB"
      }
    },
    {
      "cell_type": "code",
      "metadata": {
        "id": "vDEZFWZrHmvH"
      },
      "source": [
        "import numpy as np\n",
        "import pandas as pd\n",
        "from matplotlib import pyplot as plt\n",
        "import scipy.io\n",
        "from sklearn.preprocessing import MinMaxScaler\n",
        "from sklearn.cluster import KMeans\n",
        "from sklearn.naive_bayes import GaussianNB\n",
        "from sklearn.model_selection import train_test_split\n",
        "from sklearn import metrics\n",
        "import re\n"
      ],
      "execution_count": 304,
      "outputs": []
    },
    {
      "cell_type": "markdown",
      "metadata": {
        "id": "SVmaN-Ct2C9R"
      },
      "source": [
        "We got data from a [dataset](https://www.kaggle.com/etiennelq/french-employment-by-town) uploaded to Kaggle by Étienne LQ which contains information on number and size of companies, average salary in different categories, geographic information and demographics per French town, a [table](https://crimes.politologue.com/departements/) from Politologue.com containing information on total number of crimes per French department per year, and some data directly from the Insee website: [“Structure et distribution des revenus, inégalité des niveaux de vie en 2015”](https://www.insee.fr/fr/statistiques/3560118) (Structure and distribution of incomes, inequalities and standards of living in 2015) and “[Populations légales 2015](https://www.insee.fr/fr/statistiques/3545833?sommaire=3292701)” (Legal population 2015)."
      ]
    },
    {
      "cell_type": "code",
      "metadata": {
        "colab": {
          "base_uri": "https://localhost:8080/"
        },
        "id": "WcxUo-4XHwKR",
        "outputId": "fe453753-7078-49d3-95fa-96b780c3c313"
      },
      "source": [
        "!rm -r ./sample_data \n",
        "!rm ./*\n",
        "!git clone https://github.com/lucasomsousa/SD201---Final-Project.git\n",
        "!mv ./SD201---Final-Project/* ./\n",
        "!rm -r ./SD201---Final-Project/\n",
        "!unzip unemploymentData.zip\n",
        "!rm ./unemploymentData.zip\n"
      ],
      "execution_count": 305,
      "outputs": [
        {
          "output_type": "stream",
          "name": "stdout",
          "text": [
            "rm: cannot remove './sample_data': No such file or directory\n",
            "Cloning into 'SD201---Final-Project'...\n",
            "remote: Enumerating objects: 12, done.\u001b[K\n",
            "remote: Counting objects: 100% (12/12), done.\u001b[K\n",
            "remote: Compressing objects: 100% (11/11), done.\u001b[K\n",
            "remote: Total 12 (delta 2), reused 3 (delta 0), pack-reused 0\u001b[K\n",
            "Unpacking objects: 100% (12/12), done.\n",
            "Archive:  unemploymentData.zip\n",
            "  inflating: base_etablissement_par_tranche_effectif.csv  \n",
            "  inflating: communes.geojson        \n",
            "  inflating: departements.geojson    \n",
            "  inflating: name_geographic_information.csv  \n",
            "  inflating: net_salary_per_town_categories.csv  \n",
            "  inflating: population.csv          \n"
          ]
        }
      ]
    },
    {
      "cell_type": "code",
      "metadata": {
        "colab": {
          "base_uri": "https://localhost:8080/"
        },
        "id": "VoJI_teQJayD",
        "outputId": "345b63c9-6d81-46d6-da6a-80f13f37b64a"
      },
      "source": [
        "population = pd.read_csv(\"./population.csv\");\n",
        "netSalary = pd.read_csv(\"./net_salary_per_town_categories.csv\")\n",
        "geographicInfo = pd.read_csv(\"./name_geographic_information.csv\")\n",
        "establishments = pd.read_csv(\"./base_etablissement_par_tranche_effectif.csv\")\n",
        "\n",
        "population[\"CODGEO\"] = population[\"CODGEO\"].astype('string');\n",
        "netSalary[\"CODGEO\"] = netSalary[\"CODGEO\"].astype('string');\n",
        "establishments[\"CODGEO\"] = establishments[\"CODGEO\"].astype('string');\n",
        "\n",
        "departmentByCodgeo = geographicInfo[['numéro_département', 'code_insee']];\n",
        "departmentByCodgeo.rename(columns={\"numéro_département\": \"DEP\", \"code_insee\": \"CODGEO\"}, inplace=True);\n",
        "departmentByCodgeo[\"CODGEO\"] = departmentByCodgeo[\"CODGEO\"].astype('string');\n",
        "departmentByCodgeo.drop_duplicates(inplace=True)\n",
        "\n",
        "regionByDepartment = geographicInfo[['code_région', 'numéro_département']];\n",
        "regionByDepartment.rename(columns={\"numéro_département\": \"Department\", \"code_région\": \"Region\"}, inplace=True);\n",
        "regionByDepartment.drop_duplicates(inplace=True)\n",
        "\n",
        "coordinatesByDepartment = geographicInfo[['numéro_département', 'latitude', 'longitude']]\n",
        "coordinatesByDepartment[coordinatesByDepartment['longitude'] == '-'] = pd.NA\n",
        "coordinatesByDepartment.dropna(inplace=True)\n",
        "\n",
        "coordinatesByDepartment['longitude'] = coordinatesByDepartment['longitude'].astype('float64')\n",
        "coordinatesByDepartment['latitude'] = coordinatesByDepartment['latitude'].astype('float64')\n",
        "coordinatesByDepartment = coordinatesByDepartment.groupby('numéro_département', as_index=False).mean()\n",
        "\n",
        "coordinatesByDepartment.rename(columns={\"numéro_département\": \"Department\", \"latitude\": \"Latitude\", \"longitude\": \"Longitude\"}, inplace=True)"
      ],
      "execution_count": 306,
      "outputs": [
        {
          "output_type": "stream",
          "name": "stderr",
          "text": [
            "/usr/local/lib/python3.7/dist-packages/IPython/core/interactiveshell.py:2718: DtypeWarning: Columns (1) have mixed types.Specify dtype option on import or set low_memory=False.\n",
            "  interactivity=interactivity, compiler=compiler, result=result)\n",
            "/usr/local/lib/python3.7/dist-packages/pandas/core/frame.py:4308: SettingWithCopyWarning: \n",
            "A value is trying to be set on a copy of a slice from a DataFrame\n",
            "\n",
            "See the caveats in the documentation: https://pandas.pydata.org/pandas-docs/stable/user_guide/indexing.html#returning-a-view-versus-a-copy\n",
            "  errors=errors,\n",
            "/usr/local/lib/python3.7/dist-packages/ipykernel_launcher.py:12: SettingWithCopyWarning: \n",
            "A value is trying to be set on a copy of a slice from a DataFrame.\n",
            "Try using .loc[row_indexer,col_indexer] = value instead\n",
            "\n",
            "See the caveats in the documentation: https://pandas.pydata.org/pandas-docs/stable/user_guide/indexing.html#returning-a-view-versus-a-copy\n",
            "  if sys.path[0] == '':\n",
            "/usr/local/lib/python3.7/dist-packages/ipykernel_launcher.py:13: SettingWithCopyWarning: \n",
            "A value is trying to be set on a copy of a slice from a DataFrame\n",
            "\n",
            "See the caveats in the documentation: https://pandas.pydata.org/pandas-docs/stable/user_guide/indexing.html#returning-a-view-versus-a-copy\n",
            "  del sys.path[0]\n",
            "/usr/local/lib/python3.7/dist-packages/ipykernel_launcher.py:17: SettingWithCopyWarning: \n",
            "A value is trying to be set on a copy of a slice from a DataFrame\n",
            "\n",
            "See the caveats in the documentation: https://pandas.pydata.org/pandas-docs/stable/user_guide/indexing.html#returning-a-view-versus-a-copy\n",
            "/usr/local/lib/python3.7/dist-packages/ipykernel_launcher.py:20: SettingWithCopyWarning: \n",
            "A value is trying to be set on a copy of a slice from a DataFrame.\n",
            "Try using .loc[row_indexer,col_indexer] = value instead\n",
            "\n",
            "See the caveats in the documentation: https://pandas.pydata.org/pandas-docs/stable/user_guide/indexing.html#returning-a-view-versus-a-copy\n",
            "/usr/local/lib/python3.7/dist-packages/pandas/core/indexing.py:1763: SettingWithCopyWarning: \n",
            "A value is trying to be set on a copy of a slice from a DataFrame.\n",
            "Try using .loc[row_indexer,col_indexer] = value instead\n",
            "\n",
            "See the caveats in the documentation: https://pandas.pydata.org/pandas-docs/stable/user_guide/indexing.html#returning-a-view-versus-a-copy\n",
            "  isetter(loc, value)\n",
            "/usr/local/lib/python3.7/dist-packages/ipykernel_launcher.py:21: SettingWithCopyWarning: \n",
            "A value is trying to be set on a copy of a slice from a DataFrame\n",
            "\n",
            "See the caveats in the documentation: https://pandas.pydata.org/pandas-docs/stable/user_guide/indexing.html#returning-a-view-versus-a-copy\n",
            "/usr/local/lib/python3.7/dist-packages/ipykernel_launcher.py:23: SettingWithCopyWarning: \n",
            "A value is trying to be set on a copy of a slice from a DataFrame.\n",
            "Try using .loc[row_indexer,col_indexer] = value instead\n",
            "\n",
            "See the caveats in the documentation: https://pandas.pydata.org/pandas-docs/stable/user_guide/indexing.html#returning-a-view-versus-a-copy\n",
            "/usr/local/lib/python3.7/dist-packages/ipykernel_launcher.py:24: SettingWithCopyWarning: \n",
            "A value is trying to be set on a copy of a slice from a DataFrame.\n",
            "Try using .loc[row_indexer,col_indexer] = value instead\n",
            "\n",
            "See the caveats in the documentation: https://pandas.pydata.org/pandas-docs/stable/user_guide/indexing.html#returning-a-view-versus-a-copy\n"
          ]
        }
      ]
    },
    {
      "cell_type": "markdown",
      "metadata": {
        "id": "VdwP9XAS9gix"
      },
      "source": [
        "We got the crime data for the years of 2012-2019 from the website https://crimes.politologue.com/departements/. The table provided isn't very clean, so we used a little *jQuery* code to get the data from the table and convert it into a csv-friendly format. Also, the name of the departments and their respective codes are both in the same string, so we use regular expressions below to split the department name and code into two different colums.\n"
      ]
    },
    {
      "cell_type": "code",
      "metadata": {
        "colab": {
          "base_uri": "https://localhost:8080/",
          "height": 204
        },
        "id": "ymGUJF25UU6S",
        "outputId": "3e8581c7-8d4d-4e51-ea8c-f24e889b7b18"
      },
      "source": [
        "df=pd.read_csv('./Crimes France.csv')\n",
        "regions = df[\"Region\"]\n",
        "regionNames = []\n",
        "regionCodes = []\n",
        "\n",
        "regexAlphabet = re.compile('[0-9()]')\n",
        "regexNumbers = re.compile('[^0-9]')\n",
        "\n",
        "for region in regions:\n",
        "  regionNames.append(regexAlphabet.sub('', region))\n",
        "  regionCodes.append(regexNumbers.sub('', region))\n",
        "\n",
        "df[\"Region\"] = regionNames\n",
        "df.rename(columns={\"Region\": \"Department Name\"}, inplace=True)\n",
        "df.insert(1, \"Department\", regionCodes)\n",
        "\n",
        "df.head()"
      ],
      "execution_count": 307,
      "outputs": [
        {
          "output_type": "execute_result",
          "data": {
            "text/html": [
              "<div>\n",
              "<style scoped>\n",
              "    .dataframe tbody tr th:only-of-type {\n",
              "        vertical-align: middle;\n",
              "    }\n",
              "\n",
              "    .dataframe tbody tr th {\n",
              "        vertical-align: top;\n",
              "    }\n",
              "\n",
              "    .dataframe thead th {\n",
              "        text-align: right;\n",
              "    }\n",
              "</style>\n",
              "<table border=\"1\" class=\"dataframe\">\n",
              "  <thead>\n",
              "    <tr style=\"text-align: right;\">\n",
              "      <th></th>\n",
              "      <th>Department Name</th>\n",
              "      <th>Department</th>\n",
              "      <th>2019</th>\n",
              "      <th>Var</th>\n",
              "      <th>2018</th>\n",
              "      <th>Var.1</th>\n",
              "      <th>2017</th>\n",
              "      <th>Var.2</th>\n",
              "      <th>2016</th>\n",
              "      <th>Var.3</th>\n",
              "      <th>2015</th>\n",
              "      <th>Var.4</th>\n",
              "      <th>2014</th>\n",
              "      <th>Var.5</th>\n",
              "      <th>2013</th>\n",
              "      <th>Var.6</th>\n",
              "      <th>2012</th>\n",
              "    </tr>\n",
              "  </thead>\n",
              "  <tbody>\n",
              "    <tr>\n",
              "      <th>0</th>\n",
              "      <td>Ain</td>\n",
              "      <td>01</td>\n",
              "      <td>27173</td>\n",
              "      <td>+4.16%</td>\n",
              "      <td>26087</td>\n",
              "      <td>+5.46%</td>\n",
              "      <td>24736</td>\n",
              "      <td>+0.95%</td>\n",
              "      <td>24503</td>\n",
              "      <td>-4.88%</td>\n",
              "      <td>25761</td>\n",
              "      <td>+4.70%</td>\n",
              "      <td>24605</td>\n",
              "      <td>+6.35%</td>\n",
              "      <td>23135</td>\n",
              "      <td>+4.00%</td>\n",
              "      <td>22246</td>\n",
              "    </tr>\n",
              "    <tr>\n",
              "      <th>1</th>\n",
              "      <td>Aisne</td>\n",
              "      <td>02</td>\n",
              "      <td>26234</td>\n",
              "      <td>+1.52%</td>\n",
              "      <td>25842</td>\n",
              "      <td>+10.43%</td>\n",
              "      <td>23402</td>\n",
              "      <td>+4.24%</td>\n",
              "      <td>22450</td>\n",
              "      <td>-4.33%</td>\n",
              "      <td>23465</td>\n",
              "      <td>+0.67%</td>\n",
              "      <td>23309</td>\n",
              "      <td>-4.40%</td>\n",
              "      <td>24382</td>\n",
              "      <td>-0.36%</td>\n",
              "      <td>24469</td>\n",
              "    </tr>\n",
              "    <tr>\n",
              "      <th>2</th>\n",
              "      <td>Allier</td>\n",
              "      <td>03</td>\n",
              "      <td>14036</td>\n",
              "      <td>+4.62%</td>\n",
              "      <td>13416</td>\n",
              "      <td>+0.21%</td>\n",
              "      <td>13388</td>\n",
              "      <td>+4.79%</td>\n",
              "      <td>12776</td>\n",
              "      <td>+4.88%</td>\n",
              "      <td>12181</td>\n",
              "      <td>+0.26%</td>\n",
              "      <td>12149</td>\n",
              "      <td>-7.27%</td>\n",
              "      <td>13101</td>\n",
              "      <td>+11.40%</td>\n",
              "      <td>11760</td>\n",
              "    </tr>\n",
              "    <tr>\n",
              "      <th>3</th>\n",
              "      <td>Alpes-de-Haute-Provence</td>\n",
              "      <td>04</td>\n",
              "      <td>8631</td>\n",
              "      <td>+3.16%</td>\n",
              "      <td>8367</td>\n",
              "      <td>+1.36%</td>\n",
              "      <td>8255</td>\n",
              "      <td>-0.83%</td>\n",
              "      <td>8324</td>\n",
              "      <td>+4.10%</td>\n",
              "      <td>7996</td>\n",
              "      <td>+3.37%</td>\n",
              "      <td>7735</td>\n",
              "      <td>+4.51%</td>\n",
              "      <td>7401</td>\n",
              "      <td>-3.80%</td>\n",
              "      <td>7693</td>\n",
              "    </tr>\n",
              "    <tr>\n",
              "      <th>4</th>\n",
              "      <td>Alpes-Maritimes</td>\n",
              "      <td>06</td>\n",
              "      <td>73427</td>\n",
              "      <td>+2.40%</td>\n",
              "      <td>71708</td>\n",
              "      <td>+1.19%</td>\n",
              "      <td>70865</td>\n",
              "      <td>-1.96%</td>\n",
              "      <td>72281</td>\n",
              "      <td>-10.20%</td>\n",
              "      <td>80490</td>\n",
              "      <td>-0.17%</td>\n",
              "      <td>80627</td>\n",
              "      <td>-2.86%</td>\n",
              "      <td>82997</td>\n",
              "      <td>-5.20%</td>\n",
              "      <td>87550</td>\n",
              "    </tr>\n",
              "  </tbody>\n",
              "</table>\n",
              "</div>"
            ],
            "text/plain": [
              "            Department Name Department   2019  ...   2013    Var.6   2012\n",
              "0                      Ain          01  27173  ...  23135   +4.00%  22246\n",
              "1                    Aisne          02  26234  ...  24382   -0.36%  24469\n",
              "2                   Allier          03  14036  ...  13101  +11.40%  11760\n",
              "3  Alpes-de-Haute-Provence          04   8631  ...   7401   -3.80%   7693\n",
              "4          Alpes-Maritimes          06  73427  ...  82997   -5.20%  87550\n",
              "\n",
              "[5 rows x 17 columns]"
            ]
          },
          "metadata": {},
          "execution_count": 307
        }
      ]
    },
    {
      "cell_type": "markdown",
      "metadata": {
        "id": "wVBO1aVs_jxk"
      },
      "source": [
        "Here we merge the net salary table with the establishments table to get salary informations by department, and then we calculate the mean salary for the four types of salaried people provided in the database (Executives, Managers, Employees and Workers)."
      ]
    },
    {
      "cell_type": "code",
      "metadata": {
        "id": "r-qVSNJ4_n8L"
      },
      "source": [
        "salariesAndDepartments = pd.merge(netSalary, establishments[[\"DEP\", \"CODGEO\"]], on=\"CODGEO\")\n",
        "meanSalariesPerDepartment = salariesAndDepartments.groupby(by='DEP', as_index=False).mean()"
      ],
      "execution_count": 308,
      "outputs": []
    },
    {
      "cell_type": "code",
      "metadata": {
        "id": "UsQs0J5gBVTX",
        "colab": {
          "base_uri": "https://localhost:8080/",
          "height": 204
        },
        "outputId": "987c5112-0f67-42dd-dbfb-67d308c8155f"
      },
      "source": [
        "averageSalaries = pd.DataFrame()\n",
        "\n",
        "averageSalaries.insert(0, 'Department', np.unique(meanSalariesPerDepartment['DEP']))\n",
        "averageSalaries.insert(1, 'Executive Salary', meanSalariesPerDepartment['SNHMC14'])\n",
        "averageSalaries.insert(2, 'Manager Salary', meanSalariesPerDepartment['SNHMP14'])\n",
        "averageSalaries.insert(3, 'Employee Salary', meanSalariesPerDepartment['SNHME14'])\n",
        "averageSalaries.insert(4, 'Worker Salary', meanSalariesPerDepartment['SNHMO14'])\n",
        "\n",
        "averageSalaries.head()"
      ],
      "execution_count": 309,
      "outputs": [
        {
          "output_type": "execute_result",
          "data": {
            "text/html": [
              "<div>\n",
              "<style scoped>\n",
              "    .dataframe tbody tr th:only-of-type {\n",
              "        vertical-align: middle;\n",
              "    }\n",
              "\n",
              "    .dataframe tbody tr th {\n",
              "        vertical-align: top;\n",
              "    }\n",
              "\n",
              "    .dataframe thead th {\n",
              "        text-align: right;\n",
              "    }\n",
              "</style>\n",
              "<table border=\"1\" class=\"dataframe\">\n",
              "  <thead>\n",
              "    <tr style=\"text-align: right;\">\n",
              "      <th></th>\n",
              "      <th>Department</th>\n",
              "      <th>Executive Salary</th>\n",
              "      <th>Manager Salary</th>\n",
              "      <th>Employee Salary</th>\n",
              "      <th>Worker Salary</th>\n",
              "    </tr>\n",
              "  </thead>\n",
              "  <tbody>\n",
              "    <tr>\n",
              "      <th>0</th>\n",
              "      <td>01</td>\n",
              "      <td>24.377465</td>\n",
              "      <td>14.554930</td>\n",
              "      <td>10.719718</td>\n",
              "      <td>11.294366</td>\n",
              "    </tr>\n",
              "    <tr>\n",
              "      <th>1</th>\n",
              "      <td>02</td>\n",
              "      <td>22.729412</td>\n",
              "      <td>14.126471</td>\n",
              "      <td>10.079412</td>\n",
              "      <td>10.911765</td>\n",
              "    </tr>\n",
              "    <tr>\n",
              "      <th>2</th>\n",
              "      <td>03</td>\n",
              "      <td>22.655556</td>\n",
              "      <td>13.870370</td>\n",
              "      <td>10.000000</td>\n",
              "      <td>10.774074</td>\n",
              "    </tr>\n",
              "    <tr>\n",
              "      <th>3</th>\n",
              "      <td>04</td>\n",
              "      <td>23.040000</td>\n",
              "      <td>14.173333</td>\n",
              "      <td>10.153333</td>\n",
              "      <td>10.873333</td>\n",
              "    </tr>\n",
              "    <tr>\n",
              "      <th>4</th>\n",
              "      <td>05</td>\n",
              "      <td>21.281818</td>\n",
              "      <td>13.772727</td>\n",
              "      <td>9.854545</td>\n",
              "      <td>10.845455</td>\n",
              "    </tr>\n",
              "  </tbody>\n",
              "</table>\n",
              "</div>"
            ],
            "text/plain": [
              "  Department  Executive Salary  Manager Salary  Employee Salary  Worker Salary\n",
              "0         01         24.377465       14.554930        10.719718      11.294366\n",
              "1         02         22.729412       14.126471        10.079412      10.911765\n",
              "2         03         22.655556       13.870370        10.000000      10.774074\n",
              "3         04         23.040000       14.173333        10.153333      10.873333\n",
              "4         05         21.281818       13.772727         9.854545      10.845455"
            ]
          },
          "metadata": {},
          "execution_count": 309
        }
      ]
    },
    {
      "cell_type": "code",
      "metadata": {
        "colab": {
          "base_uri": "https://localhost:8080/",
          "height": 204
        },
        "id": "9qun0i1z_6ZF",
        "outputId": "1d833487-223e-459f-d2a6-f5d2b7573a0d"
      },
      "source": [
        "salaryInequality = pd.DataFrame()\n",
        "maxSalary = np.max(averageSalaries.drop(['Department'], axis=1), axis=1)\n",
        "minSalary = np.min(averageSalaries.drop(['Department'], axis=1), axis=1)\n",
        "normalizedDifference = (maxSalary - minSalary)/minSalary * 100\n",
        "\n",
        "salaryInequality.insert(0, 'Department', np.unique(meanSalariesPerDepartment['DEP']))\n",
        "salaryInequality.insert(1, 'Normalized Salary Difference', normalizedDifference)\n",
        "                       \n",
        "salaryInequality.head()"
      ],
      "execution_count": 310,
      "outputs": [
        {
          "output_type": "execute_result",
          "data": {
            "text/html": [
              "<div>\n",
              "<style scoped>\n",
              "    .dataframe tbody tr th:only-of-type {\n",
              "        vertical-align: middle;\n",
              "    }\n",
              "\n",
              "    .dataframe tbody tr th {\n",
              "        vertical-align: top;\n",
              "    }\n",
              "\n",
              "    .dataframe thead th {\n",
              "        text-align: right;\n",
              "    }\n",
              "</style>\n",
              "<table border=\"1\" class=\"dataframe\">\n",
              "  <thead>\n",
              "    <tr style=\"text-align: right;\">\n",
              "      <th></th>\n",
              "      <th>Department</th>\n",
              "      <th>Normalized Salary Difference</th>\n",
              "    </tr>\n",
              "  </thead>\n",
              "  <tbody>\n",
              "    <tr>\n",
              "      <th>0</th>\n",
              "      <td>01</td>\n",
              "      <td>127.407699</td>\n",
              "    </tr>\n",
              "    <tr>\n",
              "      <th>1</th>\n",
              "      <td>02</td>\n",
              "      <td>125.503356</td>\n",
              "    </tr>\n",
              "    <tr>\n",
              "      <th>2</th>\n",
              "      <td>03</td>\n",
              "      <td>126.555556</td>\n",
              "    </tr>\n",
              "    <tr>\n",
              "      <th>3</th>\n",
              "      <td>04</td>\n",
              "      <td>126.920552</td>\n",
              "    </tr>\n",
              "    <tr>\n",
              "      <th>4</th>\n",
              "      <td>05</td>\n",
              "      <td>115.959410</td>\n",
              "    </tr>\n",
              "  </tbody>\n",
              "</table>\n",
              "</div>"
            ],
            "text/plain": [
              "  Department  Normalized Salary Difference\n",
              "0         01                    127.407699\n",
              "1         02                    125.503356\n",
              "2         03                    126.555556\n",
              "3         04                    126.920552\n",
              "4         05                    115.959410"
            ]
          },
          "metadata": {},
          "execution_count": 310
        }
      ]
    },
    {
      "cell_type": "code",
      "metadata": {
        "colab": {
          "base_uri": "https://localhost:8080/"
        },
        "id": "yJBB_MirolUo",
        "outputId": "8eb70360-8523-46f3-ed4e-16de61ba1bb3"
      },
      "source": [
        "print(\"Normalized Salary Difference's Variance = \", np.var(normalizedDifference))"
      ],
      "execution_count": 311,
      "outputs": [
        {
          "output_type": "stream",
          "name": "stdout",
          "text": [
            "Normalized Salary Difference's Variance =  49.4574830618181\n"
          ]
        }
      ]
    },
    {
      "cell_type": "markdown",
      "metadata": {
        "id": "XILMsELezlLW"
      },
      "source": [
        "Now, it's useful to normalize the number of crimes according to the population of each department. It's natural that a department with much more people will have more crime. Since our data is from 2014, we'll be using just the crimes from 2014 from now on."
      ]
    },
    {
      "cell_type": "code",
      "metadata": {
        "colab": {
          "base_uri": "https://localhost:8080/",
          "height": 204
        },
        "id": "HIDWk176z3AA",
        "outputId": "ad48fdbd-41e9-4703-81ad-9c66f25cf9c3"
      },
      "source": [
        "cleanCrimeTable2014 = df[['Department Name', 'Department', '2014']]\n",
        "cleanCrimeTable2014.head()"
      ],
      "execution_count": 312,
      "outputs": [
        {
          "output_type": "execute_result",
          "data": {
            "text/html": [
              "<div>\n",
              "<style scoped>\n",
              "    .dataframe tbody tr th:only-of-type {\n",
              "        vertical-align: middle;\n",
              "    }\n",
              "\n",
              "    .dataframe tbody tr th {\n",
              "        vertical-align: top;\n",
              "    }\n",
              "\n",
              "    .dataframe thead th {\n",
              "        text-align: right;\n",
              "    }\n",
              "</style>\n",
              "<table border=\"1\" class=\"dataframe\">\n",
              "  <thead>\n",
              "    <tr style=\"text-align: right;\">\n",
              "      <th></th>\n",
              "      <th>Department Name</th>\n",
              "      <th>Department</th>\n",
              "      <th>2014</th>\n",
              "    </tr>\n",
              "  </thead>\n",
              "  <tbody>\n",
              "    <tr>\n",
              "      <th>0</th>\n",
              "      <td>Ain</td>\n",
              "      <td>01</td>\n",
              "      <td>24605</td>\n",
              "    </tr>\n",
              "    <tr>\n",
              "      <th>1</th>\n",
              "      <td>Aisne</td>\n",
              "      <td>02</td>\n",
              "      <td>23309</td>\n",
              "    </tr>\n",
              "    <tr>\n",
              "      <th>2</th>\n",
              "      <td>Allier</td>\n",
              "      <td>03</td>\n",
              "      <td>12149</td>\n",
              "    </tr>\n",
              "    <tr>\n",
              "      <th>3</th>\n",
              "      <td>Alpes-de-Haute-Provence</td>\n",
              "      <td>04</td>\n",
              "      <td>7735</td>\n",
              "    </tr>\n",
              "    <tr>\n",
              "      <th>4</th>\n",
              "      <td>Alpes-Maritimes</td>\n",
              "      <td>06</td>\n",
              "      <td>80627</td>\n",
              "    </tr>\n",
              "  </tbody>\n",
              "</table>\n",
              "</div>"
            ],
            "text/plain": [
              "            Department Name Department   2014\n",
              "0                      Ain          01  24605\n",
              "1                    Aisne          02  23309\n",
              "2                   Allier          03  12149\n",
              "3  Alpes-de-Haute-Provence          04   7735\n",
              "4          Alpes-Maritimes          06  80627"
            ]
          },
          "metadata": {},
          "execution_count": 312
        }
      ]
    },
    {
      "cell_type": "code",
      "metadata": {
        "colab": {
          "base_uri": "https://localhost:8080/",
          "height": 204
        },
        "id": "XNovI9ZFAfrV",
        "outputId": "79f3bf38-f4f2-4dfd-f645-ef298d2d27dc"
      },
      "source": [
        "populationAndDepartments = pd.merge(departmentByCodgeo, population, on=\"CODGEO\")\n",
        "populationByDepartment = populationAndDepartments.groupby(by='DEP', as_index=False).sum()\n",
        "populationByDepartment = populationByDepartment[['DEP', 'NB']]\n",
        "populationByDepartment.rename(columns={'DEP': 'Department', 'NB': 'Population'}, inplace=True)\n",
        "populationByDepartment.head()"
      ],
      "execution_count": 313,
      "outputs": [
        {
          "output_type": "execute_result",
          "data": {
            "text/html": [
              "<div>\n",
              "<style scoped>\n",
              "    .dataframe tbody tr th:only-of-type {\n",
              "        vertical-align: middle;\n",
              "    }\n",
              "\n",
              "    .dataframe tbody tr th {\n",
              "        vertical-align: top;\n",
              "    }\n",
              "\n",
              "    .dataframe thead th {\n",
              "        text-align: right;\n",
              "    }\n",
              "</style>\n",
              "<table border=\"1\" class=\"dataframe\">\n",
              "  <thead>\n",
              "    <tr style=\"text-align: right;\">\n",
              "      <th></th>\n",
              "      <th>Department</th>\n",
              "      <th>Population</th>\n",
              "    </tr>\n",
              "  </thead>\n",
              "  <tbody>\n",
              "    <tr>\n",
              "      <th>0</th>\n",
              "      <td>01</td>\n",
              "      <td>600387</td>\n",
              "    </tr>\n",
              "    <tr>\n",
              "      <th>1</th>\n",
              "      <td>02</td>\n",
              "      <td>514949</td>\n",
              "    </tr>\n",
              "    <tr>\n",
              "      <th>2</th>\n",
              "      <td>03</td>\n",
              "      <td>325421</td>\n",
              "    </tr>\n",
              "    <tr>\n",
              "      <th>3</th>\n",
              "      <td>04</td>\n",
              "      <td>154221</td>\n",
              "    </tr>\n",
              "    <tr>\n",
              "      <th>4</th>\n",
              "      <td>05</td>\n",
              "      <td>132514</td>\n",
              "    </tr>\n",
              "  </tbody>\n",
              "</table>\n",
              "</div>"
            ],
            "text/plain": [
              "  Department  Population\n",
              "0         01      600387\n",
              "1         02      514949\n",
              "2         03      325421\n",
              "3         04      154221\n",
              "4         05      132514"
            ]
          },
          "metadata": {},
          "execution_count": 313
        }
      ]
    },
    {
      "cell_type": "markdown",
      "metadata": {
        "id": "dgb4RvAgps7B"
      },
      "source": [
        "We won't work with the data on departments that aren't present in both tables, so we can just merge the two tables on Deparment (code); this will drop the lines where there's no information for both tables."
      ]
    },
    {
      "cell_type": "code",
      "metadata": {
        "id": "LeKSCLfOEIcP"
      },
      "source": [
        "cleanCrimeTable2014 = pd.merge(cleanCrimeTable2014, populationByDepartment, on='Department')\n",
        "cleanCrimeTable2014['Crimes per 100000 inhabitants'] = cleanCrimeTable2014['2014']/cleanCrimeTable2014['Population'] * 100000"
      ],
      "execution_count": 314,
      "outputs": []
    },
    {
      "cell_type": "code",
      "metadata": {
        "colab": {
          "base_uri": "https://localhost:8080/",
          "height": 204
        },
        "id": "CrkHAvIaxaih",
        "outputId": "fb9d02f0-6b27-4c0b-dedc-b8a572e0d0b0"
      },
      "source": [
        "crimesAndInequality = pd.merge(cleanCrimeTable2014, salaryInequality)\n",
        "crimesAndInequality.rename(columns={'2014': 'Crimes in 2014'}, inplace=True)\n",
        "crimesAndInequality.head()"
      ],
      "execution_count": 315,
      "outputs": [
        {
          "output_type": "execute_result",
          "data": {
            "text/html": [
              "<div>\n",
              "<style scoped>\n",
              "    .dataframe tbody tr th:only-of-type {\n",
              "        vertical-align: middle;\n",
              "    }\n",
              "\n",
              "    .dataframe tbody tr th {\n",
              "        vertical-align: top;\n",
              "    }\n",
              "\n",
              "    .dataframe thead th {\n",
              "        text-align: right;\n",
              "    }\n",
              "</style>\n",
              "<table border=\"1\" class=\"dataframe\">\n",
              "  <thead>\n",
              "    <tr style=\"text-align: right;\">\n",
              "      <th></th>\n",
              "      <th>Department Name</th>\n",
              "      <th>Department</th>\n",
              "      <th>Crimes in 2014</th>\n",
              "      <th>Population</th>\n",
              "      <th>Crimes per 100000 inhabitants</th>\n",
              "      <th>Normalized Salary Difference</th>\n",
              "    </tr>\n",
              "  </thead>\n",
              "  <tbody>\n",
              "    <tr>\n",
              "      <th>0</th>\n",
              "      <td>Ain</td>\n",
              "      <td>01</td>\n",
              "      <td>24605</td>\n",
              "      <td>600387</td>\n",
              "      <td>4098.190001</td>\n",
              "      <td>127.407699</td>\n",
              "    </tr>\n",
              "    <tr>\n",
              "      <th>1</th>\n",
              "      <td>Aisne</td>\n",
              "      <td>02</td>\n",
              "      <td>23309</td>\n",
              "      <td>514949</td>\n",
              "      <td>4526.467670</td>\n",
              "      <td>125.503356</td>\n",
              "    </tr>\n",
              "    <tr>\n",
              "      <th>2</th>\n",
              "      <td>Allier</td>\n",
              "      <td>03</td>\n",
              "      <td>12149</td>\n",
              "      <td>325421</td>\n",
              "      <td>3733.317764</td>\n",
              "      <td>126.555556</td>\n",
              "    </tr>\n",
              "    <tr>\n",
              "      <th>3</th>\n",
              "      <td>Alpes-de-Haute-Provence</td>\n",
              "      <td>04</td>\n",
              "      <td>7735</td>\n",
              "      <td>154221</td>\n",
              "      <td>5015.529662</td>\n",
              "      <td>126.920552</td>\n",
              "    </tr>\n",
              "    <tr>\n",
              "      <th>4</th>\n",
              "      <td>Alpes-Maritimes</td>\n",
              "      <td>06</td>\n",
              "      <td>80627</td>\n",
              "      <td>1052182</td>\n",
              "      <td>7662.837798</td>\n",
              "      <td>126.680706</td>\n",
              "    </tr>\n",
              "  </tbody>\n",
              "</table>\n",
              "</div>"
            ],
            "text/plain": [
              "            Department Name  ... Normalized Salary Difference\n",
              "0                      Ain   ...                   127.407699\n",
              "1                    Aisne   ...                   125.503356\n",
              "2                   Allier   ...                   126.555556\n",
              "3  Alpes-de-Haute-Provence   ...                   126.920552\n",
              "4          Alpes-Maritimes   ...                   126.680706\n",
              "\n",
              "[5 rows x 6 columns]"
            ]
          },
          "metadata": {},
          "execution_count": 315
        }
      ]
    },
    {
      "cell_type": "code",
      "metadata": {
        "colab": {
          "base_uri": "https://localhost:8080/",
          "height": 317
        },
        "id": "BAPZtQG8XmpV",
        "outputId": "44358952-8317-4138-9f2b-5c6e5cd51313"
      },
      "source": [
        "plt.scatter(crimesAndInequality['Crimes per 100000 inhabitants'],crimesAndInequality['Normalized Salary Difference'])\n",
        "plt.xlabel(\"Crimes per 100000 inhabitants\")\n",
        "plt.ylabel(\"Biggest salary difference between categories (in %)\")"
      ],
      "execution_count": 316,
      "outputs": [
        {
          "output_type": "execute_result",
          "data": {
            "text/plain": [
              "Text(0, 0.5, 'Biggest salary difference between categories (in %)')"
            ]
          },
          "metadata": {},
          "execution_count": 316
        },
        {
          "output_type": "display_data",
          "data": {
            "image/png": "[encoded data removed]",
            "text/plain": [
              "<Figure size 432x288 with 1 Axes>"
            ]
          },
          "metadata": {
            "needs_background": "light"
          }
        }
      ]
    },
    {
      "cell_type": "markdown",
      "metadata": {
        "id": "akyYJmSGKfWq"
      },
      "source": [
        "Now, before clustering our data, let's normalize it (in the way that it is, the x-axis values are much bigger than the y-axis values, which can make the result biased). Also, we'll define the number of clusters used based on the \"elbow method\", where we calculate the inertia for a different number of clusters and choose as the optimal K a number located in the \"elbow\" of the curve (so that we have a low inertia but we have big enough clusters to analyse the clusters)."
      ]
    },
    {
      "cell_type": "code",
      "source": [
        "k = 20\n",
        "inertia = []\n",
        "t1 = crimesAndInequality\n",
        "column1 = 'Crimes per 100000 inhabitants'\n",
        "column2 =  'Normalized Salary Difference'\n",
        "\n",
        "normalizedTable = pd.DataFrame()\n",
        "crimes = np.array(t1[column1]).reshape(-1,1)\n",
        "inequality = np.array(t1[column2]).reshape(-1,1)\n",
        "\n",
        "scaler = MinMaxScaler()\n",
        "\n",
        "normalizedTable.insert(0, \"Department\", t1[\"Department\"])\n",
        "\n",
        "scaler.fit(crimes)\n",
        "normalizedTable.insert(1, \"Crimes\", scaler.transform(crimes))\n",
        "\n",
        "scaler.fit(inequality)\n",
        "normalizedTable.insert(2, \"Inequality Coefficient\", scaler.transform(inequality))\n",
        "\n",
        "for i in range(k):\n",
        "  km = KMeans(n_clusters=i+1, init='k-means++')\n",
        "  km.fit(normalizedTable[['Crimes', 'Inequality Coefficient']])\n",
        "  inertia.append(km.inertia_)\n",
        "\n",
        "plt.plot(np.linspace(1,k,num=k), inertia)\n",
        "plt.xlabel('Number of clusters')\n",
        "plt.ylabel('Inertia')"
      ],
      "metadata": {
        "colab": {
          "base_uri": "https://localhost:8080/",
          "height": 296
        },
        "id": "Odt1SkGfYppC",
        "outputId": "564d03b3-d577-40af-9b0a-f3a289cfa3b8"
      },
      "execution_count": 317,
      "outputs": [
        {
          "output_type": "execute_result",
          "data": {
            "text/plain": [
              "Text(0, 0.5, 'Inertia')"
            ]
          },
          "metadata": {},
          "execution_count": 317
        },
        {
          "output_type": "display_data",
          "data": {
            "image/png": "[encoded data removed]",
            "text/plain": [
              "<Figure size 432x288 with 1 Axes>"
            ]
          },
          "metadata": {
            "needs_background": "light"
          }
        }
      ]
    },
    {
      "cell_type": "markdown",
      "source": [
        "As we see above, 5 is located on the \"elbow\" of the curve so it shall be a good number of clusters."
      ],
      "metadata": {
        "id": "wv8sDPlbbb0Q"
      }
    },
    {
      "cell_type": "code",
      "metadata": {
        "id": "Vd_uUb2q8LUr"
      },
      "source": [
        "def clusterAndCorrelation(t1, column1, column2, k):\n",
        "  normalizedTable = pd.DataFrame()\n",
        "  crimes = np.array(t1[column1]).reshape(-1,1)\n",
        "  inequality = np.array(t1[column2]).reshape(-1,1)\n",
        "\n",
        "  scaler = MinMaxScaler()\n",
        "\n",
        "  normalizedTable.insert(0, \"Department\", t1[\"Department\"])\n",
        "\n",
        "  scaler.fit(crimes)\n",
        "  normalizedTable.insert(1, \"Crimes\", scaler.transform(crimes))\n",
        "\n",
        "  scaler.fit(inequality)\n",
        "  normalizedTable.insert(2, \"Inequality Coefficient\", scaler.transform(inequality))\n",
        "\n",
        "  km = KMeans(n_clusters=k, init='k-means++')\n",
        "  y_predicted = km.fit_predict(normalizedTable[['Crimes', 'Inequality Coefficient']])\n",
        "  \n",
        "  colors = ['red', 'green', 'blue', 'yellow', 'black']\n",
        "\n",
        "  for cluster in np.unique(y_predicted):\n",
        "    plt.scatter(normalizedTable[y_predicted == cluster]['Crimes'],normalizedTable[y_predicted == cluster]['Inequality Coefficient'], color=colors[cluster])\n",
        "\n",
        "  plt.xlabel('Crimes in the year (normalized)')\n",
        "  plt.ylabel('Inequality coefficient (normalized)')\n",
        "\n",
        "  correlation = normalizedTable['Crimes'].corr(normalizedTable['Inequality Coefficient'])\n",
        "  print(\"Correlation between the two variables:\", correlation)\n",
        "  return normalizedTable\n"
      ],
      "execution_count": 318,
      "outputs": []
    },
    {
      "cell_type": "code",
      "metadata": {
        "colab": {
          "base_uri": "https://localhost:8080/",
          "height": 296
        },
        "id": "FP2goFQVKxbM",
        "outputId": "429afb88-bec8-4f42-c88a-8e008ef111a0"
      },
      "source": [
        "normalizedCrimesAndInequality = clusterAndCorrelation(crimesAndInequality, 'Crimes per 100000 inhabitants', 'Normalized Salary Difference', k=5)\n"
      ],
      "execution_count": 319,
      "outputs": [
        {
          "output_type": "stream",
          "name": "stdout",
          "text": [
            "Correlation between the two variables: 0.2404842253774127\n"
          ]
        },
        {
          "output_type": "display_data",
          "data": {
            "image/png": "[encoded data removed]",
            "text/plain": [
              "<Figure size 432x288 with 1 Axes>"
            ]
          },
          "metadata": {
            "needs_background": "light"
          }
        }
      ]
    },
    {
      "cell_type": "code",
      "source": [
        "outlier = np.argmax(crimesAndInequality['Crimes per 100000 inhabitants']);\n",
        "crimesAndInequality.iloc[[outlier]]"
      ],
      "metadata": {
        "id": "qq_tK_K4WG0i",
        "colab": {
          "base_uri": "https://localhost:8080/",
          "height": 80
        },
        "outputId": "1e2b847d-9833-4fbb-9e88-950c0b32d5bd"
      },
      "execution_count": 320,
      "outputs": [
        {
          "output_type": "execute_result",
          "data": {
            "text/html": [
              "<div>\n",
              "<style scoped>\n",
              "    .dataframe tbody tr th:only-of-type {\n",
              "        vertical-align: middle;\n",
              "    }\n",
              "\n",
              "    .dataframe tbody tr th {\n",
              "        vertical-align: top;\n",
              "    }\n",
              "\n",
              "    .dataframe thead th {\n",
              "        text-align: right;\n",
              "    }\n",
              "</style>\n",
              "<table border=\"1\" class=\"dataframe\">\n",
              "  <thead>\n",
              "    <tr style=\"text-align: right;\">\n",
              "      <th></th>\n",
              "      <th>Department Name</th>\n",
              "      <th>Department</th>\n",
              "      <th>Crimes in 2014</th>\n",
              "      <th>Population</th>\n",
              "      <th>Crimes per 100000 inhabitants</th>\n",
              "      <th>Normalized Salary Difference</th>\n",
              "    </tr>\n",
              "  </thead>\n",
              "  <tbody>\n",
              "    <tr>\n",
              "      <th>73</th>\n",
              "      <td>Paris</td>\n",
              "      <td>75</td>\n",
              "      <td>271587</td>\n",
              "      <td>2173279</td>\n",
              "      <td>12496.646772</td>\n",
              "      <td>159.349593</td>\n",
              "    </tr>\n",
              "  </tbody>\n",
              "</table>\n",
              "</div>"
            ],
            "text/plain": [
              "   Department Name  ... Normalized Salary Difference\n",
              "73          Paris   ...                   159.349593\n",
              "\n",
              "[1 rows x 6 columns]"
            ]
          },
          "metadata": {},
          "execution_count": 320
        }
      ]
    },
    {
      "cell_type": "code",
      "metadata": {
        "id": "uyU6E4cx9vVo",
        "colab": {
          "base_uri": "https://localhost:8080/",
          "height": 296
        },
        "outputId": "cef401e1-f2be-4fda-9c40-2ec92252d7a8"
      },
      "source": [
        "crimesAndInequality.drop(outlier, inplace=True);\n",
        "\n",
        "normalizedCrimesAndInequalityWithoutOulier = clusterAndCorrelation(crimesAndInequality, 'Crimes per 100000 inhabitants', 'Normalized Salary Difference', k=5)"
      ],
      "execution_count": 321,
      "outputs": [
        {
          "output_type": "stream",
          "name": "stdout",
          "text": [
            "Correlation between the two variables: -0.01901048946940906\n"
          ]
        },
        {
          "output_type": "display_data",
          "data": {
            "image/png": "[encoded data removed]",
            "text/plain": [
              "<Figure size 432x288 with 1 Axes>"
            ]
          },
          "metadata": {
            "needs_background": "light"
          }
        }
      ]
    },
    {
      "cell_type": "markdown",
      "metadata": {
        "id": "-xvZDfw6cELP"
      },
      "source": [
        "##Working directly with fiscal data and Gini Coefficient"
      ]
    },
    {
      "cell_type": "markdown",
      "metadata": {
        "id": "YgLNxp5Jvpvr"
      },
      "source": [
        "Since we didn't get any great insight from this data (other than finding out that Paris is an outlier when it comes to salary discrepancy and crimes committed), we searched for data that took more than just salary difference as a measure of inequality.\n",
        "\n",
        "We were able to find a 2015 [database](https://www.insee.fr/fr/statistiques/3560118) provided by INSEE (Institut National de la Statistique et des Études Économiques) with fiscal data by department that includes the Gini Coefficient for each department, a well-known inequality metric.\n",
        "\n",
        "We had to download as well a [table](https://www.insee.fr/fr/statistiques/3545833?sommaire=3292701) with population data by department for the year of 2015, also provided by INSEE."
      ]
    },
    {
      "cell_type": "code",
      "metadata": {
        "id": "S4NugPt1chKC",
        "colab": {
          "base_uri": "https://localhost:8080/",
          "height": 204
        },
        "outputId": "6f55d37b-62f2-4136-8a80-ad0dd7772f31"
      },
      "source": [
        "population2015 = pd.read_excel(io=\"./population2015.xls\", sheet_name=\"Départements\", skiprows=7)[[\"Code département\", \"Population totale\"]]\n",
        "population2015.rename(columns={\"Code département\": \"Department\", \"Population totale\":\"Population\"}, inplace=True)\n",
        "\n",
        "crimeData2015 = df[['Department Name', 'Department', '2015']]\n",
        "crimeData2015 = pd.merge(crimeData2015, population2015, on=\"Department\")\n",
        "crimeData2015['Crimes per 100000 inhabitants'] = crimeData2015['2015']/crimeData2015['Population'] * 100000\n",
        "crimeData2015.rename(columns={\"2015\": \"Crimes in 2015\"}, inplace=True)\n",
        "crimeData2015.head()"
      ],
      "execution_count": 322,
      "outputs": [
        {
          "output_type": "execute_result",
          "data": {
            "text/html": [
              "<div>\n",
              "<style scoped>\n",
              "    .dataframe tbody tr th:only-of-type {\n",
              "        vertical-align: middle;\n",
              "    }\n",
              "\n",
              "    .dataframe tbody tr th {\n",
              "        vertical-align: top;\n",
              "    }\n",
              "\n",
              "    .dataframe thead th {\n",
              "        text-align: right;\n",
              "    }\n",
              "</style>\n",
              "<table border=\"1\" class=\"dataframe\">\n",
              "  <thead>\n",
              "    <tr style=\"text-align: right;\">\n",
              "      <th></th>\n",
              "      <th>Department Name</th>\n",
              "      <th>Department</th>\n",
              "      <th>Crimes in 2015</th>\n",
              "      <th>Population</th>\n",
              "      <th>Crimes per 100000 inhabitants</th>\n",
              "    </tr>\n",
              "  </thead>\n",
              "  <tbody>\n",
              "    <tr>\n",
              "      <th>0</th>\n",
              "      <td>Ain</td>\n",
              "      <td>01</td>\n",
              "      <td>25761</td>\n",
              "      <td>649012</td>\n",
              "      <td>3969.264051</td>\n",
              "    </tr>\n",
              "    <tr>\n",
              "      <th>1</th>\n",
              "      <td>Aisne</td>\n",
              "      <td>02</td>\n",
              "      <td>23465</td>\n",
              "      <td>552529</td>\n",
              "      <td>4246.835913</td>\n",
              "    </tr>\n",
              "    <tr>\n",
              "      <th>2</th>\n",
              "      <td>Allier</td>\n",
              "      <td>03</td>\n",
              "      <td>12181</td>\n",
              "      <td>351626</td>\n",
              "      <td>3464.192068</td>\n",
              "    </tr>\n",
              "    <tr>\n",
              "      <th>3</th>\n",
              "      <td>Alpes-de-Haute-Provence</td>\n",
              "      <td>04</td>\n",
              "      <td>7996</td>\n",
              "      <td>166635</td>\n",
              "      <td>4798.511717</td>\n",
              "    </tr>\n",
              "    <tr>\n",
              "      <th>4</th>\n",
              "      <td>Alpes-Maritimes</td>\n",
              "      <td>06</td>\n",
              "      <td>80490</td>\n",
              "      <td>1097556</td>\n",
              "      <td>7333.566579</td>\n",
              "    </tr>\n",
              "  </tbody>\n",
              "</table>\n",
              "</div>"
            ],
            "text/plain": [
              "            Department Name  ... Crimes per 100000 inhabitants\n",
              "0                      Ain   ...                   3969.264051\n",
              "1                    Aisne   ...                   4246.835913\n",
              "2                   Allier   ...                   3464.192068\n",
              "3  Alpes-de-Haute-Provence   ...                   4798.511717\n",
              "4          Alpes-Maritimes   ...                   7333.566579\n",
              "\n",
              "[5 rows x 5 columns]"
            ]
          },
          "metadata": {},
          "execution_count": 322
        }
      ]
    },
    {
      "cell_type": "code",
      "metadata": {
        "id": "UxOCAlwc1dpq"
      },
      "source": [
        "fiscalData2015 = pd.read_excel(io=\"./FILO_DEC_DEP.xls\", sheet_name=\"ENSEMBLE\", skiprows=5)\n",
        "fiscalData2015.rename(columns={\"CODGEO\": \"Department\"}, inplace=True)\n",
        "fiscalData2015.head()\n",
        "crimesAndInequality = pd.merge(crimeData2015, fiscalData2015, on=\"Department\")\n"
      ],
      "execution_count": 323,
      "outputs": []
    },
    {
      "cell_type": "code",
      "source": [
        "crimesAndInequality.head()"
      ],
      "metadata": {
        "colab": {
          "base_uri": "https://localhost:8080/",
          "height": 309
        },
        "id": "-7Ml70yK2WBi",
        "outputId": "201302bb-2a03-469a-d646-71ac5f2a7ddc"
      },
      "execution_count": 324,
      "outputs": [
        {
          "output_type": "execute_result",
          "data": {
            "text/html": [
              "<div>\n",
              "<style scoped>\n",
              "    .dataframe tbody tr th:only-of-type {\n",
              "        vertical-align: middle;\n",
              "    }\n",
              "\n",
              "    .dataframe tbody tr th {\n",
              "        vertical-align: top;\n",
              "    }\n",
              "\n",
              "    .dataframe thead th {\n",
              "        text-align: right;\n",
              "    }\n",
              "</style>\n",
              "<table border=\"1\" class=\"dataframe\">\n",
              "  <thead>\n",
              "    <tr style=\"text-align: right;\">\n",
              "      <th></th>\n",
              "      <th>Department Name</th>\n",
              "      <th>Department</th>\n",
              "      <th>Crimes in 2015</th>\n",
              "      <th>Population</th>\n",
              "      <th>Crimes per 100000 inhabitants</th>\n",
              "      <th>LIBGEO</th>\n",
              "      <th>NBMEN15</th>\n",
              "      <th>NBPERS15</th>\n",
              "      <th>NBUC15</th>\n",
              "      <th>PMIMP15</th>\n",
              "      <th>Q115</th>\n",
              "      <th>Q215</th>\n",
              "      <th>Q315</th>\n",
              "      <th>Q3_Q1</th>\n",
              "      <th>D115</th>\n",
              "      <th>D215</th>\n",
              "      <th>D315</th>\n",
              "      <th>D415</th>\n",
              "      <th>D615</th>\n",
              "      <th>D715</th>\n",
              "      <th>D815</th>\n",
              "      <th>D915</th>\n",
              "      <th>RD</th>\n",
              "      <th>S80S2015</th>\n",
              "      <th>GI15</th>\n",
              "      <th>PACT15</th>\n",
              "      <th>PTSA15</th>\n",
              "      <th>PCHO15</th>\n",
              "      <th>PBEN15</th>\n",
              "      <th>PPEN15</th>\n",
              "      <th>PAUT15</th>\n",
              "    </tr>\n",
              "  </thead>\n",
              "  <tbody>\n",
              "    <tr>\n",
              "      <th>0</th>\n",
              "      <td>Ain</td>\n",
              "      <td>01</td>\n",
              "      <td>25761</td>\n",
              "      <td>649012</td>\n",
              "      <td>3969.264051</td>\n",
              "      <td>Ain</td>\n",
              "      <td>252861</td>\n",
              "      <td>616256.0</td>\n",
              "      <td>411258.90</td>\n",
              "      <td>57.5</td>\n",
              "      <td>15114</td>\n",
              "      <td>21980</td>\n",
              "      <td>30916</td>\n",
              "      <td>15802</td>\n",
              "      <td>8894</td>\n",
              "      <td>13434</td>\n",
              "      <td>16622</td>\n",
              "      <td>19354</td>\n",
              "      <td>24878</td>\n",
              "      <td>28534</td>\n",
              "      <td>33912</td>\n",
              "      <td>45002</td>\n",
              "      <td>5.059816</td>\n",
              "      <td>6.907496</td>\n",
              "      <td>0.354273</td>\n",
              "      <td>72.0</td>\n",
              "      <td>65.5</td>\n",
              "      <td>2.8</td>\n",
              "      <td>3.7</td>\n",
              "      <td>23.5</td>\n",
              "      <td>4.5</td>\n",
              "    </tr>\n",
              "    <tr>\n",
              "      <th>1</th>\n",
              "      <td>Aisne</td>\n",
              "      <td>02</td>\n",
              "      <td>23465</td>\n",
              "      <td>552529</td>\n",
              "      <td>4246.835913</td>\n",
              "      <td>Aisne</td>\n",
              "      <td>222379</td>\n",
              "      <td>526720.5</td>\n",
              "      <td>355691.55</td>\n",
              "      <td>47.8</td>\n",
              "      <td>11436</td>\n",
              "      <td>18104</td>\n",
              "      <td>25146</td>\n",
              "      <td>13710</td>\n",
              "      <td>5458</td>\n",
              "      <td>9714</td>\n",
              "      <td>12978</td>\n",
              "      <td>15676</td>\n",
              "      <td>20596</td>\n",
              "      <td>23466</td>\n",
              "      <td>27228</td>\n",
              "      <td>34032</td>\n",
              "      <td>6.235251</td>\n",
              "      <td>8.324442</td>\n",
              "      <td>0.353915</td>\n",
              "      <td>65.6</td>\n",
              "      <td>56.0</td>\n",
              "      <td>3.5</td>\n",
              "      <td>6.1</td>\n",
              "      <td>29.7</td>\n",
              "      <td>4.7</td>\n",
              "    </tr>\n",
              "    <tr>\n",
              "      <th>2</th>\n",
              "      <td>Allier</td>\n",
              "      <td>03</td>\n",
              "      <td>12181</td>\n",
              "      <td>351626</td>\n",
              "      <td>3464.192068</td>\n",
              "      <td>Allier</td>\n",
              "      <td>158224</td>\n",
              "      <td>332494.5</td>\n",
              "      <td>235863.65</td>\n",
              "      <td>48.6</td>\n",
              "      <td>12756</td>\n",
              "      <td>18806</td>\n",
              "      <td>25510</td>\n",
              "      <td>12754</td>\n",
              "      <td>6700</td>\n",
              "      <td>11174</td>\n",
              "      <td>14126</td>\n",
              "      <td>16522</td>\n",
              "      <td>21152</td>\n",
              "      <td>23858</td>\n",
              "      <td>27550</td>\n",
              "      <td>34130</td>\n",
              "      <td>5.094030</td>\n",
              "      <td>6.778097</td>\n",
              "      <td>0.329146</td>\n",
              "      <td>58.4</td>\n",
              "      <td>49.8</td>\n",
              "      <td>2.9</td>\n",
              "      <td>5.7</td>\n",
              "      <td>36.9</td>\n",
              "      <td>4.7</td>\n",
              "    </tr>\n",
              "    <tr>\n",
              "      <th>3</th>\n",
              "      <td>Alpes-de-Haute-Provence</td>\n",
              "      <td>04</td>\n",
              "      <td>7996</td>\n",
              "      <td>166635</td>\n",
              "      <td>4798.511717</td>\n",
              "      <td>Alpes-de-Haute-Provence</td>\n",
              "      <td>73767</td>\n",
              "      <td>159497.5</td>\n",
              "      <td>111892.85</td>\n",
              "      <td>50.2</td>\n",
              "      <td>12596</td>\n",
              "      <td>19186</td>\n",
              "      <td>26960</td>\n",
              "      <td>14364</td>\n",
              "      <td>6852</td>\n",
              "      <td>11008</td>\n",
              "      <td>14004</td>\n",
              "      <td>16664</td>\n",
              "      <td>21866</td>\n",
              "      <td>25008</td>\n",
              "      <td>29278</td>\n",
              "      <td>36396</td>\n",
              "      <td>5.311734</td>\n",
              "      <td>6.901182</td>\n",
              "      <td>0.337994</td>\n",
              "      <td>58.0</td>\n",
              "      <td>48.5</td>\n",
              "      <td>3.5</td>\n",
              "      <td>6.0</td>\n",
              "      <td>34.6</td>\n",
              "      <td>7.4</td>\n",
              "    </tr>\n",
              "    <tr>\n",
              "      <th>4</th>\n",
              "      <td>Alpes-Maritimes</td>\n",
              "      <td>06</td>\n",
              "      <td>80490</td>\n",
              "      <td>1097556</td>\n",
              "      <td>7333.566579</td>\n",
              "      <td>Alpes-Maritimes</td>\n",
              "      <td>517016</td>\n",
              "      <td>1115861.5</td>\n",
              "      <td>782611.55</td>\n",
              "      <td>57.8</td>\n",
              "      <td>13414</td>\n",
              "      <td>21272</td>\n",
              "      <td>31058</td>\n",
              "      <td>17644</td>\n",
              "      <td>6842</td>\n",
              "      <td>11542</td>\n",
              "      <td>15088</td>\n",
              "      <td>18208</td>\n",
              "      <td>24578</td>\n",
              "      <td>28544</td>\n",
              "      <td>34098</td>\n",
              "      <td>44342</td>\n",
              "      <td>6.480854</td>\n",
              "      <td>8.740050</td>\n",
              "      <td>0.379641</td>\n",
              "      <td>64.1</td>\n",
              "      <td>55.1</td>\n",
              "      <td>3.2</td>\n",
              "      <td>5.9</td>\n",
              "      <td>27.9</td>\n",
              "      <td>8.0</td>\n",
              "    </tr>\n",
              "  </tbody>\n",
              "</table>\n",
              "</div>"
            ],
            "text/plain": [
              "            Department Name Department  Crimes in 2015  ...  PBEN15  PPEN15 PAUT15\n",
              "0                      Ain          01           25761  ...     3.7    23.5    4.5\n",
              "1                    Aisne          02           23465  ...     6.1    29.7    4.7\n",
              "2                   Allier          03           12181  ...     5.7    36.9    4.7\n",
              "3  Alpes-de-Haute-Provence          04            7996  ...     6.0    34.6    7.4\n",
              "4          Alpes-Maritimes          06           80490  ...     5.9    27.9    8.0\n",
              "\n",
              "[5 rows x 31 columns]"
            ]
          },
          "metadata": {},
          "execution_count": 324
        }
      ]
    },
    {
      "cell_type": "code",
      "source": [
        "kgini = 20\n",
        "inertiag = []\n",
        "t1g = crimesAndInequality\n",
        "column1g = 'Crimes per 100000 inhabitants'\n",
        "column2g =  'GI15'\n",
        "\n",
        "normalizedTableg = pd.DataFrame()\n",
        "crimesg = np.array(t1g[column1g]).reshape(-1,1)\n",
        "inequalityg = np.array(t1g[column2g]).reshape(-1,1)\n",
        "\n",
        "scalerg = MinMaxScaler()\n",
        "\n",
        "normalizedTableg.insert(0, \"Department\", t1g[\"Department\"])\n",
        "\n",
        "scalerg.fit(crimesg)\n",
        "normalizedTableg.insert(1, \"Crimes\", scalerg.transform(crimesg))\n",
        "\n",
        "scalerg.fit(inequalityg)\n",
        "normalizedTableg.insert(2, \"Inequality Coefficient\", scalerg.transform(inequalityg))\n",
        "\n",
        "for i in range(kgini):\n",
        "  kmgini = KMeans(n_clusters=i+1, init='k-means++')\n",
        "  kmgini.fit(normalizedTableg[['Crimes', 'Inequality Coefficient']])\n",
        "  inertiag.append(kmgini.inertia_)\n",
        "\n",
        "plt.plot(np.linspace(1,kgini,num=kgini), inertiag)\n",
        "plt.xlabel('Number of clusters for GINI')\n",
        "plt.ylabel('Inertia')"
      ],
      "metadata": {
        "colab": {
          "base_uri": "https://localhost:8080/",
          "height": 296
        },
        "id": "xix45dT609w2",
        "outputId": "eb92d293-9fbd-4ea3-a374-21c6238d0662"
      },
      "execution_count": 325,
      "outputs": [
        {
          "output_type": "execute_result",
          "data": {
            "text/plain": [
              "Text(0, 0.5, 'Inertia')"
            ]
          },
          "metadata": {},
          "execution_count": 325
        },
        {
          "output_type": "display_data",
          "data": {
            "image/png": "[encoded data removed]",
            "text/plain": [
              "<Figure size 432x288 with 1 Axes>"
            ]
          },
          "metadata": {
            "needs_background": "light"
          }
        }
      ]
    },
    {
      "cell_type": "code",
      "metadata": {
        "id": "5VqWKq9T_YYH",
        "colab": {
          "base_uri": "https://localhost:8080/",
          "height": 296
        },
        "outputId": "aae8d853-d37f-42c4-c28e-dcde3371fd0a"
      },
      "source": [
        "normalizedCrimesAndInequality = clusterAndCorrelation(crimesAndInequality, 'Crimes per 100000 inhabitants', 'GI15', k=5)"
      ],
      "execution_count": 326,
      "outputs": [
        {
          "output_type": "stream",
          "name": "stdout",
          "text": [
            "Correlation between the two variables: 0.6517325340531195\n"
          ]
        },
        {
          "output_type": "display_data",
          "data": {
            "image/png": "[encoded data removed]",
            "text/plain": [
              "<Figure size 432x288 with 1 Axes>"
            ]
          },
          "metadata": {
            "needs_background": "light"
          }
        }
      ]
    },
    {
      "cell_type": "code",
      "source": [
        "crimesAndInequality[[\"Department Name\", \"Department\", \"Crimes per 100000 inhabitants\", \"GI15\"]].head()"
      ],
      "metadata": {
        "colab": {
          "base_uri": "https://localhost:8080/",
          "height": 204
        },
        "id": "q6ihsX_SrtoF",
        "outputId": "4d685d2c-fb5e-4508-f2ff-ab839c5b14be"
      },
      "execution_count": 327,
      "outputs": [
        {
          "output_type": "execute_result",
          "data": {
            "text/html": [
              "<div>\n",
              "<style scoped>\n",
              "    .dataframe tbody tr th:only-of-type {\n",
              "        vertical-align: middle;\n",
              "    }\n",
              "\n",
              "    .dataframe tbody tr th {\n",
              "        vertical-align: top;\n",
              "    }\n",
              "\n",
              "    .dataframe thead th {\n",
              "        text-align: right;\n",
              "    }\n",
              "</style>\n",
              "<table border=\"1\" class=\"dataframe\">\n",
              "  <thead>\n",
              "    <tr style=\"text-align: right;\">\n",
              "      <th></th>\n",
              "      <th>Department Name</th>\n",
              "      <th>Department</th>\n",
              "      <th>Crimes per 100000 inhabitants</th>\n",
              "      <th>GI15</th>\n",
              "    </tr>\n",
              "  </thead>\n",
              "  <tbody>\n",
              "    <tr>\n",
              "      <th>0</th>\n",
              "      <td>Ain</td>\n",
              "      <td>01</td>\n",
              "      <td>3969.264051</td>\n",
              "      <td>0.354273</td>\n",
              "    </tr>\n",
              "    <tr>\n",
              "      <th>1</th>\n",
              "      <td>Aisne</td>\n",
              "      <td>02</td>\n",
              "      <td>4246.835913</td>\n",
              "      <td>0.353915</td>\n",
              "    </tr>\n",
              "    <tr>\n",
              "      <th>2</th>\n",
              "      <td>Allier</td>\n",
              "      <td>03</td>\n",
              "      <td>3464.192068</td>\n",
              "      <td>0.329146</td>\n",
              "    </tr>\n",
              "    <tr>\n",
              "      <th>3</th>\n",
              "      <td>Alpes-de-Haute-Provence</td>\n",
              "      <td>04</td>\n",
              "      <td>4798.511717</td>\n",
              "      <td>0.337994</td>\n",
              "    </tr>\n",
              "    <tr>\n",
              "      <th>4</th>\n",
              "      <td>Alpes-Maritimes</td>\n",
              "      <td>06</td>\n",
              "      <td>7333.566579</td>\n",
              "      <td>0.379641</td>\n",
              "    </tr>\n",
              "  </tbody>\n",
              "</table>\n",
              "</div>"
            ],
            "text/plain": [
              "            Department Name Department  Crimes per 100000 inhabitants      GI15\n",
              "0                      Ain          01                    3969.264051  0.354273\n",
              "1                    Aisne          02                    4246.835913  0.353915\n",
              "2                   Allier          03                    3464.192068  0.329146\n",
              "3  Alpes-de-Haute-Provence          04                    4798.511717  0.337994\n",
              "4          Alpes-Maritimes          06                    7333.566579  0.379641"
            ]
          },
          "metadata": {},
          "execution_count": 327
        }
      ]
    },
    {
      "cell_type": "code",
      "metadata": {
        "id": "sRNKeezd3uMk",
        "colab": {
          "base_uri": "https://localhost:8080/",
          "height": 151
        },
        "outputId": "11332226-7190-45a6-c0a2-57a841f963b3"
      },
      "source": [
        "crimes = np.array(crimesAndInequality['Crimes per 100000 inhabitants']).reshape(-1,1)\n",
        "inequality = np.array(crimesAndInequality['GI15']).reshape(-1,1)\n",
        "\n",
        "crimesOutlierThreshold = crimes.mean() + 3*crimes.std()\n",
        "print(\"Crimes outlier threshold:\", crimesOutlierThreshold)\n",
        "crimesAndInequality[crimesAndInequality[\"Crimes per 100000 inhabitants\"] > crimesOutlierThreshold]"
      ],
      "execution_count": 328,
      "outputs": [
        {
          "output_type": "stream",
          "name": "stdout",
          "text": [
            "Crimes outlier threshold: 8618.152657477815\n"
          ]
        },
        {
          "output_type": "execute_result",
          "data": {
            "text/html": [
              "<div>\n",
              "<style scoped>\n",
              "    .dataframe tbody tr th:only-of-type {\n",
              "        vertical-align: middle;\n",
              "    }\n",
              "\n",
              "    .dataframe tbody tr th {\n",
              "        vertical-align: top;\n",
              "    }\n",
              "\n",
              "    .dataframe thead th {\n",
              "        text-align: right;\n",
              "    }\n",
              "</style>\n",
              "<table border=\"1\" class=\"dataframe\">\n",
              "  <thead>\n",
              "    <tr style=\"text-align: right;\">\n",
              "      <th></th>\n",
              "      <th>Department Name</th>\n",
              "      <th>Department</th>\n",
              "      <th>Crimes in 2015</th>\n",
              "      <th>Population</th>\n",
              "      <th>Crimes per 100000 inhabitants</th>\n",
              "      <th>LIBGEO</th>\n",
              "      <th>NBMEN15</th>\n",
              "      <th>NBPERS15</th>\n",
              "      <th>NBUC15</th>\n",
              "      <th>PMIMP15</th>\n",
              "      <th>Q115</th>\n",
              "      <th>Q215</th>\n",
              "      <th>Q315</th>\n",
              "      <th>Q3_Q1</th>\n",
              "      <th>D115</th>\n",
              "      <th>D215</th>\n",
              "      <th>D315</th>\n",
              "      <th>D415</th>\n",
              "      <th>D615</th>\n",
              "      <th>D715</th>\n",
              "      <th>D815</th>\n",
              "      <th>D915</th>\n",
              "      <th>RD</th>\n",
              "      <th>S80S2015</th>\n",
              "      <th>GI15</th>\n",
              "      <th>PACT15</th>\n",
              "      <th>PTSA15</th>\n",
              "      <th>PCHO15</th>\n",
              "      <th>PBEN15</th>\n",
              "      <th>PPEN15</th>\n",
              "      <th>PAUT15</th>\n",
              "    </tr>\n",
              "  </thead>\n",
              "  <tbody>\n",
              "    <tr>\n",
              "      <th>71</th>\n",
              "      <td>Paris</td>\n",
              "      <td>75</td>\n",
              "      <td>252891</td>\n",
              "      <td>2228409</td>\n",
              "      <td>11348.500208</td>\n",
              "      <td>Paris</td>\n",
              "      <td>1032956</td>\n",
              "      <td>2099679.0</td>\n",
              "      <td>1.503225e+06</td>\n",
              "      <td>70.2</td>\n",
              "      <td>14328</td>\n",
              "      <td>27856</td>\n",
              "      <td>46384</td>\n",
              "      <td>32056</td>\n",
              "      <td>6606</td>\n",
              "      <td>11702</td>\n",
              "      <td>16992</td>\n",
              "      <td>22352</td>\n",
              "      <td>33962</td>\n",
              "      <td>41542</td>\n",
              "      <td>52450</td>\n",
              "      <td>74172</td>\n",
              "      <td>11.227975</td>\n",
              "      <td>16.928462</td>\n",
              "      <td>0.492794</td>\n",
              "      <td>72.6</td>\n",
              "      <td>62.7</td>\n",
              "      <td>2.7</td>\n",
              "      <td>7.3</td>\n",
              "      <td>17.3</td>\n",
              "      <td>10.1</td>\n",
              "    </tr>\n",
              "  </tbody>\n",
              "</table>\n",
              "</div>"
            ],
            "text/plain": [
              "   Department Name Department  Crimes in 2015  ...  PBEN15  PPEN15 PAUT15\n",
              "71          Paris          75          252891  ...     7.3    17.3   10.1\n",
              "\n",
              "[1 rows x 31 columns]"
            ]
          },
          "metadata": {},
          "execution_count": 328
        }
      ]
    },
    {
      "cell_type": "code",
      "metadata": {
        "id": "ArAmWttN7S0v",
        "colab": {
          "base_uri": "https://localhost:8080/",
          "height": 230
        },
        "outputId": "26ad1a5c-e2b9-431b-d172-dfc1cf271d6b"
      },
      "source": [
        "giniOutlierThreshold = inequality.mean() + 3*inequality.std()\n",
        "print(\"Gini outlier threshold:\", giniOutlierThreshold)\n",
        "crimesAndInequality[crimesAndInequality[\"GI15\"] > giniOutlierThreshold]"
      ],
      "execution_count": 329,
      "outputs": [
        {
          "output_type": "stream",
          "name": "stdout",
          "text": [
            "Gini outlier threshold: 0.4514739734158765\n"
          ]
        },
        {
          "output_type": "execute_result",
          "data": {
            "text/html": [
              "<div>\n",
              "<style scoped>\n",
              "    .dataframe tbody tr th:only-of-type {\n",
              "        vertical-align: middle;\n",
              "    }\n",
              "\n",
              "    .dataframe tbody tr th {\n",
              "        vertical-align: top;\n",
              "    }\n",
              "\n",
              "    .dataframe thead th {\n",
              "        text-align: right;\n",
              "    }\n",
              "</style>\n",
              "<table border=\"1\" class=\"dataframe\">\n",
              "  <thead>\n",
              "    <tr style=\"text-align: right;\">\n",
              "      <th></th>\n",
              "      <th>Department Name</th>\n",
              "      <th>Department</th>\n",
              "      <th>Crimes in 2015</th>\n",
              "      <th>Population</th>\n",
              "      <th>Crimes per 100000 inhabitants</th>\n",
              "      <th>LIBGEO</th>\n",
              "      <th>NBMEN15</th>\n",
              "      <th>NBPERS15</th>\n",
              "      <th>NBUC15</th>\n",
              "      <th>PMIMP15</th>\n",
              "      <th>Q115</th>\n",
              "      <th>Q215</th>\n",
              "      <th>Q315</th>\n",
              "      <th>Q3_Q1</th>\n",
              "      <th>D115</th>\n",
              "      <th>D215</th>\n",
              "      <th>D315</th>\n",
              "      <th>D415</th>\n",
              "      <th>D615</th>\n",
              "      <th>D715</th>\n",
              "      <th>D815</th>\n",
              "      <th>D915</th>\n",
              "      <th>RD</th>\n",
              "      <th>S80S2015</th>\n",
              "      <th>GI15</th>\n",
              "      <th>PACT15</th>\n",
              "      <th>PTSA15</th>\n",
              "      <th>PCHO15</th>\n",
              "      <th>PBEN15</th>\n",
              "      <th>PPEN15</th>\n",
              "      <th>PAUT15</th>\n",
              "    </tr>\n",
              "  </thead>\n",
              "  <tbody>\n",
              "    <tr>\n",
              "      <th>49</th>\n",
              "      <td>La Réunion</td>\n",
              "      <td>974</td>\n",
              "      <td>32503</td>\n",
              "      <td>860896</td>\n",
              "      <td>3775.485076</td>\n",
              "      <td>La Réunion</td>\n",
              "      <td>301552</td>\n",
              "      <td>847403.5</td>\n",
              "      <td>5.362452e+05</td>\n",
              "      <td>29.7</td>\n",
              "      <td>4572</td>\n",
              "      <td>11802</td>\n",
              "      <td>22476</td>\n",
              "      <td>17904</td>\n",
              "      <td>0</td>\n",
              "      <td>3072</td>\n",
              "      <td>5970</td>\n",
              "      <td>8800</td>\n",
              "      <td>15290</td>\n",
              "      <td>19670</td>\n",
              "      <td>25924</td>\n",
              "      <td>36810</td>\n",
              "      <td>NaN</td>\n",
              "      <td>66.989249</td>\n",
              "      <td>0.521701</td>\n",
              "      <td>78.2</td>\n",
              "      <td>64.6</td>\n",
              "      <td>5.3</td>\n",
              "      <td>8.3</td>\n",
              "      <td>16.1</td>\n",
              "      <td>5.7</td>\n",
              "    </tr>\n",
              "    <tr>\n",
              "      <th>61</th>\n",
              "      <td>Martinique</td>\n",
              "      <td>972</td>\n",
              "      <td>18946</td>\n",
              "      <td>386875</td>\n",
              "      <td>4897.189015</td>\n",
              "      <td>Martinique</td>\n",
              "      <td>149870</td>\n",
              "      <td>351101.0</td>\n",
              "      <td>2.389714e+05</td>\n",
              "      <td>35.2</td>\n",
              "      <td>7182</td>\n",
              "      <td>15180</td>\n",
              "      <td>25450</td>\n",
              "      <td>18268</td>\n",
              "      <td>1200</td>\n",
              "      <td>5524</td>\n",
              "      <td>8784</td>\n",
              "      <td>11916</td>\n",
              "      <td>18636</td>\n",
              "      <td>22896</td>\n",
              "      <td>28560</td>\n",
              "      <td>38194</td>\n",
              "      <td>31.828333</td>\n",
              "      <td>24.671343</td>\n",
              "      <td>0.460245</td>\n",
              "      <td>72.9</td>\n",
              "      <td>63.6</td>\n",
              "      <td>3.8</td>\n",
              "      <td>5.4</td>\n",
              "      <td>23.1</td>\n",
              "      <td>4.0</td>\n",
              "    </tr>\n",
              "    <tr>\n",
              "      <th>71</th>\n",
              "      <td>Paris</td>\n",
              "      <td>75</td>\n",
              "      <td>252891</td>\n",
              "      <td>2228409</td>\n",
              "      <td>11348.500208</td>\n",
              "      <td>Paris</td>\n",
              "      <td>1032956</td>\n",
              "      <td>2099679.0</td>\n",
              "      <td>1.503225e+06</td>\n",
              "      <td>70.2</td>\n",
              "      <td>14328</td>\n",
              "      <td>27856</td>\n",
              "      <td>46384</td>\n",
              "      <td>32056</td>\n",
              "      <td>6606</td>\n",
              "      <td>11702</td>\n",
              "      <td>16992</td>\n",
              "      <td>22352</td>\n",
              "      <td>33962</td>\n",
              "      <td>41542</td>\n",
              "      <td>52450</td>\n",
              "      <td>74172</td>\n",
              "      <td>11.227975</td>\n",
              "      <td>16.928462</td>\n",
              "      <td>0.492794</td>\n",
              "      <td>72.6</td>\n",
              "      <td>62.7</td>\n",
              "      <td>2.7</td>\n",
              "      <td>7.3</td>\n",
              "      <td>17.3</td>\n",
              "      <td>10.1</td>\n",
              "    </tr>\n",
              "  </tbody>\n",
              "</table>\n",
              "</div>"
            ],
            "text/plain": [
              "   Department Name Department  Crimes in 2015  ...  PBEN15  PPEN15 PAUT15\n",
              "49     La Réunion         974           32503  ...     8.3    16.1    5.7\n",
              "61     Martinique         972           18946  ...     5.4    23.1    4.0\n",
              "71          Paris          75          252891  ...     7.3    17.3   10.1\n",
              "\n",
              "[3 rows x 31 columns]"
            ]
          },
          "metadata": {},
          "execution_count": 329
        }
      ]
    },
    {
      "cell_type": "code",
      "source": [
        "crimesAndInequalityWithoutOutliers = crimesAndInequality.drop([49, 61, 71])\n",
        "normalizedCrimesAndInequalityWithoutOutliers = clusterAndCorrelation(crimesAndInequalityWithoutOutliers, 'Crimes per 100000 inhabitants', 'GI15', k=2)"
      ],
      "metadata": {
        "id": "gz9ZcXVEZ-PR",
        "colab": {
          "base_uri": "https://localhost:8080/",
          "height": 296
        },
        "outputId": "40528e4e-9b4a-4504-db0e-11a1d02c388c"
      },
      "execution_count": 330,
      "outputs": [
        {
          "output_type": "stream",
          "name": "stdout",
          "text": [
            "Correlation between the two variables: 0.7777814280492167\n"
          ]
        },
        {
          "output_type": "display_data",
          "data": {
            "image/png": "[encoded data removed]",
            "text/plain": [
              "<Figure size 432x288 with 1 Axes>"
            ]
          },
          "metadata": {
            "needs_background": "light"
          }
        }
      ]
    },
    {
      "cell_type": "markdown",
      "source": [
        "Just for the sake of trying, we decided to check if there's a geographic factor on France inequality based on 3 criteria: the distance to Paris (since Paris is the capital of France and the department with biggest inequality, we wanted to check if departments nearby were more inclined to having bigger inequality), the latitude and the longitude. \n",
        "\n",
        "We found out that there's barely no correlation between inequality and the first two criteria, but surprisingly there's a weak correlation (r = 0.30) between the inequality and the longitude."
      ],
      "metadata": {
        "id": "dbALjh9uNCp9"
      }
    },
    {
      "cell_type": "code",
      "source": [
        "def latLongDistance(coordA, coordB):\n",
        "  #Implements the Haversine formula\n",
        "  latA, latB, longA, longB = np.radians([coordA[0], coordB[0], coordA[1], coordB[1]])\n",
        "  latDistance = latA - latB;\n",
        "  longDistance = longA - longB;\n",
        "  a = np.sin(latDistance/2)**2 + np.cos(latA)*np.cos(latB)*np.sin(longDistance/2)**2\n",
        "  c = 2*np.arcsin(np.sqrt(a))\n",
        "  earthRadius = 6371\n",
        "  return(c * earthRadius)"
      ],
      "metadata": {
        "id": "uBdie1F94C0O"
      },
      "execution_count": 331,
      "outputs": []
    },
    {
      "cell_type": "code",
      "source": [
        "parisLat = float(coordinatesByDepartment[coordinatesByDepartment['Department'] == '75']['Latitude'])\n",
        "parisLong = float(coordinatesByDepartment[coordinatesByDepartment['Department'] == '75']['Longitude'])\n",
        "parisCoord = (parisLat, parisLong)\n",
        "\n",
        "distances = []\n",
        "for i in range(coordinatesByDepartment.shape[0]):\n",
        "  lat = coordinatesByDepartment.iloc[i]['Latitude']\n",
        "  lng = coordinatesByDepartment.iloc[i]['Longitude']\n",
        "  distance = latLongDistance(parisCoord, (lat, lng))\n",
        "  distances.append(distance)\n",
        "\n",
        "normalizedCrimesAndInequality.insert(3, column=\"Distance to Paris\", value=distances)\n",
        "normalizedCrimesAndInequality = pd.merge(normalizedCrimesAndInequality, coordinatesByDepartment, on=\"Department\")"
      ],
      "metadata": {
        "id": "nak-PSUBr5J1"
      },
      "execution_count": 332,
      "outputs": []
    },
    {
      "cell_type": "code",
      "source": [
        "correlation = normalizedCrimesAndInequality['Inequality Coefficient'].corr(normalizedCrimesAndInequality['Distance to Paris'])\n",
        "print(\"Correlation between Gini Coefficient and Distance to Paris:\", correlation)\n",
        "\n",
        "correlation = normalizedCrimesAndInequality['Inequality Coefficient'].corr(normalizedCrimesAndInequality['Latitude'])\n",
        "print(\"Correlation between Gini Coefficient and Latitude:\", correlation)\n",
        "\n",
        "correlation = normalizedCrimesAndInequality['Inequality Coefficient'].corr(normalizedCrimesAndInequality['Longitude'])\n",
        "print(\"Correlation between Gini Coefficient and Longitude:\", correlation)\n",
        "  "
      ],
      "metadata": {
        "id": "1MZzv_NBH75H",
        "colab": {
          "base_uri": "https://localhost:8080/"
        },
        "outputId": "8e40010b-6d05-493c-ac9a-fe9d109a8a0f"
      },
      "execution_count": 333,
      "outputs": [
        {
          "output_type": "stream",
          "name": "stdout",
          "text": [
            "Correlation between Gini Coefficient and Distance to Paris: 0.0012434365578947277\n",
            "Correlation between Gini Coefficient and Latitude: 0.07343273647943609\n",
            "Correlation between Gini Coefficient and Longitude: 0.2968019734369215\n"
          ]
        }
      ]
    },
    {
      "cell_type": "markdown",
      "source": [
        "## Using Gini Coefficient to predict crime risk in departments"
      ],
      "metadata": {
        "id": "JGVbg6NQSb_I"
      }
    },
    {
      "cell_type": "markdown",
      "source": [
        "Knowing that the income inequality (measured by the Gini Coefficient) is strongly correlated with the crimes, we'll separate the french departments we analysed in 3 different classes according to their crime rate in 2015 (we'll call it low risk, medium risk, and high risk).\n",
        "\n",
        "We'll use a naïve Bayes classifier to try and predict to which class of risk the department belongs to."
      ],
      "metadata": {
        "id": "aj7QK4spSiv3"
      }
    },
    {
      "cell_type": "code",
      "source": [
        "crimesIneqTable = crimesAndInequality[[\"Department\", \"Crimes per 100000 inhabitants\", \"GI15\"]]\n",
        "crimesIneqTable.rename(columns={\"Crimes per 100000 inhabitants\": \"Crime Rate\", \"GI15\": \"Gini Coefficient\"}, inplace=True)\n",
        "plt.hist(crimesIneqTable[\"Crime Rate\"])"
      ],
      "metadata": {
        "id": "PGO0a1BUKQHv",
        "colab": {
          "base_uri": "https://localhost:8080/",
          "height": 435
        },
        "outputId": "1e5292e4-a58b-4410-d691-b92c785c9cf4"
      },
      "execution_count": 334,
      "outputs": [
        {
          "output_type": "stream",
          "name": "stderr",
          "text": [
            "/usr/local/lib/python3.7/dist-packages/pandas/core/frame.py:4308: SettingWithCopyWarning: \n",
            "A value is trying to be set on a copy of a slice from a DataFrame\n",
            "\n",
            "See the caveats in the documentation: https://pandas.pydata.org/pandas-docs/stable/user_guide/indexing.html#returning-a-view-versus-a-copy\n",
            "  errors=errors,\n"
          ]
        },
        {
          "output_type": "execute_result",
          "data": {
            "text/plain": [
              "(array([19., 37., 17., 11.,  8.,  2.,  1.,  0.,  0.,  1.]),\n",
              " array([ 2488.580626 ,  3374.5725842,  4260.5645424,  5146.5565006,\n",
              "         6032.5484588,  6918.540417 ,  7804.5323752,  8690.5243334,\n",
              "         9576.5162916, 10462.5082498, 11348.500208 ]),\n",
              " <a list of 10 Patch objects>)"
            ]
          },
          "metadata": {},
          "execution_count": 334
        },
        {
          "output_type": "display_data",
          "data": {
            "image/png": "[encoded data removed]",
            "text/plain": [
              "<Figure size 432x288 with 1 Axes>"
            ]
          },
          "metadata": {
            "needs_background": "light"
          }
        }
      ]
    },
    {
      "cell_type": "code",
      "source": [
        "riskClass = []\n",
        "for row in range(crimesIneqTable.shape[0]):\n",
        "  crimeRate = crimesIneqTable[\"Crime Rate\"][row]\n",
        "  if crimeRate < 4000:\n",
        "    riskClass.append(0)\n",
        "  elif crimeRate >= 4000 and crimeRate < 6000:\n",
        "    riskClass.append(1)\n",
        "  else:\n",
        "    riskClass.append(2)\n",
        "\n",
        "crimesIneqTable.insert(3, \"Class\", riskClass)\n",
        "crimesIneqTable.head()"
      ],
      "metadata": {
        "id": "47eTHKuDUj8n",
        "colab": {
          "base_uri": "https://localhost:8080/",
          "height": 204
        },
        "outputId": "00a9beb3-0461-402c-8bc7-399aae7bb1fe"
      },
      "execution_count": 335,
      "outputs": [
        {
          "output_type": "execute_result",
          "data": {
            "text/html": [
              "<div>\n",
              "<style scoped>\n",
              "    .dataframe tbody tr th:only-of-type {\n",
              "        vertical-align: middle;\n",
              "    }\n",
              "\n",
              "    .dataframe tbody tr th {\n",
              "        vertical-align: top;\n",
              "    }\n",
              "\n",
              "    .dataframe thead th {\n",
              "        text-align: right;\n",
              "    }\n",
              "</style>\n",
              "<table border=\"1\" class=\"dataframe\">\n",
              "  <thead>\n",
              "    <tr style=\"text-align: right;\">\n",
              "      <th></th>\n",
              "      <th>Department</th>\n",
              "      <th>Crime Rate</th>\n",
              "      <th>Gini Coefficient</th>\n",
              "      <th>Class</th>\n",
              "    </tr>\n",
              "  </thead>\n",
              "  <tbody>\n",
              "    <tr>\n",
              "      <th>0</th>\n",
              "      <td>01</td>\n",
              "      <td>3969.264051</td>\n",
              "      <td>0.354273</td>\n",
              "      <td>0</td>\n",
              "    </tr>\n",
              "    <tr>\n",
              "      <th>1</th>\n",
              "      <td>02</td>\n",
              "      <td>4246.835913</td>\n",
              "      <td>0.353915</td>\n",
              "      <td>1</td>\n",
              "    </tr>\n",
              "    <tr>\n",
              "      <th>2</th>\n",
              "      <td>03</td>\n",
              "      <td>3464.192068</td>\n",
              "      <td>0.329146</td>\n",
              "      <td>0</td>\n",
              "    </tr>\n",
              "    <tr>\n",
              "      <th>3</th>\n",
              "      <td>04</td>\n",
              "      <td>4798.511717</td>\n",
              "      <td>0.337994</td>\n",
              "      <td>1</td>\n",
              "    </tr>\n",
              "    <tr>\n",
              "      <th>4</th>\n",
              "      <td>06</td>\n",
              "      <td>7333.566579</td>\n",
              "      <td>0.379641</td>\n",
              "      <td>2</td>\n",
              "    </tr>\n",
              "  </tbody>\n",
              "</table>\n",
              "</div>"
            ],
            "text/plain": [
              "  Department   Crime Rate  Gini Coefficient  Class\n",
              "0         01  3969.264051          0.354273      0\n",
              "1         02  4246.835913          0.353915      1\n",
              "2         03  3464.192068          0.329146      0\n",
              "3         04  4798.511717          0.337994      1\n",
              "4         06  7333.566579          0.379641      2"
            ]
          },
          "metadata": {},
          "execution_count": 335
        }
      ]
    },
    {
      "cell_type": "code",
      "source": [
        "def predictClass(tables, test_size):\n",
        "  X = np.array(crimesIneqTable[tables])\n",
        "  y = np.ravel(np.array(crimesIneqTable[\"Class\"]))\n",
        "\n",
        "  X_train, X_test, y_train, y_test = train_test_split(X, y, test_size=test_size)\n",
        "  X_test\n",
        "  gnb = GaussianNB()\n",
        "  y_pred = gnb.fit(X_train, y_train).predict(X_test)\n",
        "  accuracy = metrics.accuracy_score(y_test, y_pred)\n",
        "  recall = metrics.recall_score(y_test, y_pred, average=None, zero_division=1)\n",
        "  if(len(recall) < 3):\n",
        "    recall = np.append(recall, 0)\n",
        "  return 100*accuracy, 100*recall"
      ],
      "metadata": {
        "id": "oh1cgfXMOcfR"
      },
      "execution_count": 336,
      "outputs": []
    },
    {
      "cell_type": "code",
      "source": [
        "accuracyList = []\n",
        "recallList = []\n",
        "for i in range(1000):\n",
        "  accuracy, recall = predictClass([\"Gini Coefficient\"], test_size=0.5)\n",
        "  accuracyList.append(accuracy)\n",
        "  recallList.append(recall)\n",
        "\n",
        "accuracy = np.mean(accuracyList)\n",
        "recall = np.mean(recallList, axis=0)\n",
        "print(\"Average accuracy of the classifier:\", \"{:.1f}\".format(accuracy), \"%\")\n",
        "print(\"Accuracy for low-risk, medium-risk and high-risk classes are, respectively, \", recall[0], \"%,\", recall[1], \"%,\", recall[2], \"%,\")"
      ],
      "metadata": {
        "id": "dwForofec3qP",
        "colab": {
          "base_uri": "https://localhost:8080/"
        },
        "outputId": "3513020c-76eb-473f-d706-95f777bce6c6"
      },
      "execution_count": 337,
      "outputs": [
        {
          "output_type": "stream",
          "name": "stdout",
          "text": [
            "Average accuracy of the classifier: 60.0 %\n",
            "Accuracy for low-risk, medium-risk and high-risk classes are, respectively,  64.7555285571256 %, 65.17215016348335 %, 34.66404761904761 %,\n"
          ]
        }
      ]
    },
    {
      "cell_type": "markdown",
      "source": [
        "## Using Gini Coefficient + Demography data to predict crime risk in departments"
      ],
      "metadata": {
        "id": "quZTimdKdMPA"
      }
    },
    {
      "cell_type": "markdown",
      "source": [
        "The Pennsylvania State University professors Jeffery Ulmer and Darrell Steffensmeier's article on \"The Age and Crime Relationship\" points several sources claiming a relation between crimes and age of the perpetrators:\n",
        "\n",
        "\"Today, the peak age-crime involvement (the age group with the highest age-specific arrest rate) is younger than 25 for all crimes reported in the FBI's UCR (Uniform Crime Report) program except gambling, and rates begin to decline in the late teenage years for more than half of the UCR crimes. [...]\n",
        "\n",
        "In fact, a significant portion of U.S. national crime rate trends over time can be explained by fluctuations in the proportion of the population in the crime-prone age group of 15-to-24-years-old (Steffensmeier & Harer, 1987, 1999).\"\n",
        "\n",
        "Therefore, we decided to add demography information (the percentage of people in each department that were below, on, and above the crime-prone age group of 15-to-24-years-old) to our model and see if the accuracy of the crime-rate prediction grows.\n",
        "\n",
        "It's important to note that we weren't able to find data on demographics for the year of 2015 (we're using 2015 data for crime rate and Gini coefficient), so we decided to use the demography information of 2014. This generates some uncertainty to our results, since the number of people from each age group defined varies from one year to the other, but we assume that this difference is small enough in one year so that we can consider the distribution roughly the same for 2014 and 2015."
      ],
      "metadata": {
        "id": "eq6mACkVddhQ"
      }
    },
    {
      "cell_type": "code",
      "source": [
        "populationAndDepartments.rename(columns={\"DEP\": \"Department\"}, inplace=True)\n",
        "\n",
        "belowCrimeProneAge = populationAndDepartments[\"AGEQ80_17\"] <= 15\n",
        "onCrimeProneAge = np.logical_and(populationAndDepartments[\"AGEQ80_17\"] > 15, populationAndDepartments[\"AGEQ80_17\"] <= 30)\n",
        "aboveCrimeProneAge = populationAndDepartments[\"AGEQ80_17\"] > 30\n",
        "\n",
        "belowCrimeProneAgeByDepartment = populationAndDepartments[belowCrimeProneAge].groupby(\"Department\", as_index=False).sum()[[\"Department\", \"NB\"]]\n",
        "belowCrimeProneAgeByDepartment.rename(columns={\"NB\": \"Below crime-prone age\"}, inplace=True)\n",
        "onCrimeProneAgeByDepartment = populationAndDepartments[onCrimeProneAge].groupby(\"Department\", as_index=False).sum()[[\"Department\", \"NB\"]]\n",
        "onCrimeProneAgeByDepartment.rename(columns={\"NB\": \"On crime-prone age\"}, inplace=True)\n",
        "aboveCrimeProneAge = populationAndDepartments[aboveCrimeProneAge].groupby(\"Department\", as_index=False).sum()[[\"Department\", \"NB\"]]\n",
        "aboveCrimeProneAge.rename(columns={\"NB\": \"Above crime-prone age\"}, inplace=True)\n"
      ],
      "metadata": {
        "id": "PMKNtHIhgYK1"
      },
      "execution_count": 338,
      "outputs": []
    },
    {
      "cell_type": "code",
      "source": [
        "crimesIneqTable = pd.merge(crimesIneqTable, belowCrimeProneAgeByDepartment, on=\"Department\")\n",
        "crimesIneqTable = pd.merge(crimesIneqTable, onCrimeProneAgeByDepartment, on=\"Department\")\n",
        "crimesIneqTable = pd.merge(crimesIneqTable, aboveCrimeProneAge, on=\"Department\")\n",
        "crimesIneqTable = pd.merge(crimesIneqTable, populationByDepartment, on=\"Department\")\n",
        "\n",
        "crimesIneqTable[\"Below crime-prone age\"] = crimesIneqTable[\"Below crime-prone age\"]/crimesIneqTable[\"Population\"]\n",
        "crimesIneqTable[\"On crime-prone age\"] = crimesIneqTable[\"On crime-prone age\"]/crimesIneqTable[\"Population\"]\n",
        "crimesIneqTable[\"Above crime-prone age\"] = crimesIneqTable[\"Above crime-prone age\"]/crimesIneqTable[\"Population\"]\n",
        "\n",
        "crimesIneqTable.head()"
      ],
      "metadata": {
        "id": "kw2JtCyTi-_c",
        "colab": {
          "base_uri": "https://localhost:8080/",
          "height": 204
        },
        "outputId": "88f956f9-6757-40d9-9682-243da5dc24aa"
      },
      "execution_count": 339,
      "outputs": [
        {
          "output_type": "execute_result",
          "data": {
            "text/html": [
              "<div>\n",
              "<style scoped>\n",
              "    .dataframe tbody tr th:only-of-type {\n",
              "        vertical-align: middle;\n",
              "    }\n",
              "\n",
              "    .dataframe tbody tr th {\n",
              "        vertical-align: top;\n",
              "    }\n",
              "\n",
              "    .dataframe thead th {\n",
              "        text-align: right;\n",
              "    }\n",
              "</style>\n",
              "<table border=\"1\" class=\"dataframe\">\n",
              "  <thead>\n",
              "    <tr style=\"text-align: right;\">\n",
              "      <th></th>\n",
              "      <th>Department</th>\n",
              "      <th>Crime Rate</th>\n",
              "      <th>Gini Coefficient</th>\n",
              "      <th>Class</th>\n",
              "      <th>Below crime-prone age</th>\n",
              "      <th>On crime-prone age</th>\n",
              "      <th>Above crime-prone age</th>\n",
              "      <th>Population</th>\n",
              "    </tr>\n",
              "  </thead>\n",
              "  <tbody>\n",
              "    <tr>\n",
              "      <th>0</th>\n",
              "      <td>01</td>\n",
              "      <td>3969.264051</td>\n",
              "      <td>0.354273</td>\n",
              "      <td>0</td>\n",
              "      <td>0.267942</td>\n",
              "      <td>0.168070</td>\n",
              "      <td>0.563988</td>\n",
              "      <td>600387</td>\n",
              "    </tr>\n",
              "    <tr>\n",
              "      <th>1</th>\n",
              "      <td>02</td>\n",
              "      <td>4246.835913</td>\n",
              "      <td>0.353915</td>\n",
              "      <td>1</td>\n",
              "      <td>0.258206</td>\n",
              "      <td>0.167370</td>\n",
              "      <td>0.574424</td>\n",
              "      <td>514949</td>\n",
              "    </tr>\n",
              "    <tr>\n",
              "      <th>2</th>\n",
              "      <td>03</td>\n",
              "      <td>3464.192068</td>\n",
              "      <td>0.329146</td>\n",
              "      <td>0</td>\n",
              "      <td>0.212562</td>\n",
              "      <td>0.137852</td>\n",
              "      <td>0.649586</td>\n",
              "      <td>325421</td>\n",
              "    </tr>\n",
              "    <tr>\n",
              "      <th>3</th>\n",
              "      <td>04</td>\n",
              "      <td>4798.511717</td>\n",
              "      <td>0.337994</td>\n",
              "      <td>1</td>\n",
              "      <td>0.220210</td>\n",
              "      <td>0.138684</td>\n",
              "      <td>0.641106</td>\n",
              "      <td>154221</td>\n",
              "    </tr>\n",
              "    <tr>\n",
              "      <th>4</th>\n",
              "      <td>06</td>\n",
              "      <td>7333.566579</td>\n",
              "      <td>0.379641</td>\n",
              "      <td>2</td>\n",
              "      <td>0.215188</td>\n",
              "      <td>0.165513</td>\n",
              "      <td>0.619299</td>\n",
              "      <td>1052182</td>\n",
              "    </tr>\n",
              "  </tbody>\n",
              "</table>\n",
              "</div>"
            ],
            "text/plain": [
              "  Department   Crime Rate  ...  Above crime-prone age  Population\n",
              "0         01  3969.264051  ...               0.563988      600387\n",
              "1         02  4246.835913  ...               0.574424      514949\n",
              "2         03  3464.192068  ...               0.649586      325421\n",
              "3         04  4798.511717  ...               0.641106      154221\n",
              "4         06  7333.566579  ...               0.619299     1052182\n",
              "\n",
              "[5 rows x 8 columns]"
            ]
          },
          "metadata": {},
          "execution_count": 339
        }
      ]
    },
    {
      "cell_type": "code",
      "source": [
        "accuracyList = []\n",
        "recallList = []\n",
        "for i in range(1000):\n",
        "  accuracy, recall = predictClass([\"Gini Coefficient\", \"Below crime-prone age\", \"On crime-prone age\", \"Above crime-prone age\"], test_size=0.5)\n",
        "  accuracyList.append(accuracy)\n",
        "  recallList.append(recall)\n",
        "\n",
        "accuracy = np.mean(accuracyList)\n",
        "recall = np.mean(recallList, axis=0)\n",
        "print(\"Average accuracy of the classifier:\", \"{:.1f}\".format(accuracy), \"%\")\n",
        "print(\"Accuracy for low-risk, medium-risk and high-risk classes are, respectively, \", recall[0], \"%,\", recall[1], \"%,\", recall[2], \"%,\")"
      ],
      "metadata": {
        "id": "zcKxAs9jkZW2",
        "colab": {
          "base_uri": "https://localhost:8080/"
        },
        "outputId": "b2de56f8-85be-4962-8ef5-41d2159e69e6"
      },
      "execution_count": 340,
      "outputs": [
        {
          "output_type": "stream",
          "name": "stdout",
          "text": [
            "Average accuracy of the classifier: 69.0 %\n",
            "Accuracy for low-risk, medium-risk and high-risk classes are, respectively,  72.04651277771853 %, 68.79883333073589 %, 63.09444444444439 %,\n"
          ]
        }
      ]
    },
    {
      "cell_type": "markdown",
      "source": [
        "As we can see, the accuracy did increase from about 60% to 69%, which shows that the demography is indeed a relevant factor for determining crime rate in a given location."
      ],
      "metadata": {
        "id": "tjopT77rhwKD"
      }
    }
  ]
}